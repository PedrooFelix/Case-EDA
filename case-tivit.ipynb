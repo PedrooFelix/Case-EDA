{
 "cells": [
  {
   "cell_type": "markdown",
   "metadata": {
    "heading_collapsed": true
   },
   "source": [
    "# Importando as bibliotecas"
   ]
  },
  {
   "cell_type": "code",
   "execution_count": null,
   "metadata": {
    "ExecuteTime": {
     "start_time": "2021-03-28T14:27:30.446Z"
    },
    "hidden": true
   },
   "outputs": [
    {
     "name": "stdout",
     "output_type": "stream",
     "text": [
      "Collecting paretochart\n",
      "  Downloading paretochart-1.0.tar.gz (5.7 kB)\n",
      "Requirement already satisfied: matplotlib in /Users/usuario/opt/anaconda3/lib/python3.8/site-packages (from paretochart) (3.3.2)\n",
      "Requirement already satisfied: kiwisolver>=1.0.1 in /Users/usuario/opt/anaconda3/lib/python3.8/site-packages (from matplotlib->paretochart) (1.3.0)\n",
      "Requirement already satisfied: numpy>=1.15 in /Users/usuario/opt/anaconda3/lib/python3.8/site-packages (from matplotlib->paretochart) (1.19.2)\n",
      "Requirement already satisfied: certifi>=2020.06.20 in /Users/usuario/opt/anaconda3/lib/python3.8/site-packages (from matplotlib->paretochart) (2020.6.20)\n",
      "Requirement already satisfied: pillow>=6.2.0 in /Users/usuario/opt/anaconda3/lib/python3.8/site-packages (from matplotlib->paretochart) (8.0.1)\n",
      "Requirement already satisfied: python-dateutil>=2.1 in /Users/usuario/opt/anaconda3/lib/python3.8/site-packages (from matplotlib->paretochart) (2.8.1)\n",
      "Requirement already satisfied: cycler>=0.10 in /Users/usuario/opt/anaconda3/lib/python3.8/site-packages (from matplotlib->paretochart) (0.10.0)\n",
      "Requirement already satisfied: pyparsing!=2.0.4,!=2.1.2,!=2.1.6,>=2.0.3 in /Users/usuario/opt/anaconda3/lib/python3.8/site-packages (from matplotlib->paretochart) (2.4.7)\n",
      "Requirement already satisfied: six in /Users/usuario/opt/anaconda3/lib/python3.8/site-packages (from cycler>=0.10->matplotlib->paretochart) (1.15.0)\n",
      "Building wheels for collected packages: paretochart\n",
      "  Building wheel for paretochart (setup.py) ... \u001b[?25ldone\n",
      "\u001b[?25h  Created wheel for paretochart: filename=paretochart-1.0-py3-none-any.whl size=6025 sha256=4f47cfc5ab9f73511336ffcada26219a5dd71c20610e89bcece15de89f6df1f4\n",
      "  Stored in directory: /Users/usuario/Library/Caches/pip/wheels/5a/98/73/8ebfaf685fe317518c75f005e3898f81a62ed55de04feadd2a\n",
      "Successfully built paretochart\n"
     ]
    }
   ],
   "source": [
    "!pip install paretochart "
   ]
  },
  {
   "cell_type": "code",
   "execution_count": 96,
   "metadata": {
    "ExecuteTime": {
     "end_time": "2021-03-28T15:49:11.347147Z",
     "start_time": "2021-03-28T15:49:11.338329Z"
    },
    "hidden": true
   },
   "outputs": [],
   "source": [
    "# Para importação de dados e tratamento de dataframes:\n",
    "import pandas as pd\n",
    "\n",
    "# Para tratamento de arrays:\n",
    "import numpy as np\n",
    "\n",
    "# Para visualização de dados:\n",
    "import seaborn as sns\n",
    "import matplotlib.pyplot as plt\n",
    "\n",
    "# Para criação do Pareto:\n",
    "from matplotlib.ticker import PercentFormatter\n",
    "\n",
    "# Para estimativa da tendência central dos barplots:\n",
    "from numpy import median"
   ]
  },
  {
   "cell_type": "code",
   "execution_count": 4,
   "metadata": {
    "ExecuteTime": {
     "end_time": "2021-03-28T00:10:38.776829Z",
     "start_time": "2021-03-28T00:10:38.754684Z"
    },
    "hidden": true
   },
   "outputs": [
    {
     "name": "stdout",
     "output_type": "stream",
     "text": [
      "A versão de Pandas utilizada foi 1.2.0\n",
      "A versão de Numpy utilizada foi 1.19.5\n",
      "A versão de Seaborn utilizada foi 0.11.1\n"
     ]
    }
   ],
   "source": [
    "print(f\"\"\"A versão de Pandas utilizada foi {pd.__version__}\n",
    "A versão de Numpy utilizada foi {np.__version__}\n",
    "A versão de Seaborn utilizada foi {sns.__version__}\"\"\")"
   ]
  },
  {
   "cell_type": "markdown",
   "metadata": {
    "heading_collapsed": true
   },
   "source": [
    "# Importando os arquivos"
   ]
  },
  {
   "cell_type": "code",
   "execution_count": 97,
   "metadata": {
    "ExecuteTime": {
     "end_time": "2021-03-28T15:51:09.131974Z",
     "start_time": "2021-03-28T15:49:18.825839Z"
    },
    "hidden": true
   },
   "outputs": [],
   "source": [
    "df = pd.read_excel('Base_para_exame.xlsx')"
   ]
  },
  {
   "cell_type": "code",
   "execution_count": 6,
   "metadata": {
    "ExecuteTime": {
     "end_time": "2021-03-28T00:11:14.435865Z",
     "start_time": "2021-03-28T00:11:14.398136Z"
    },
    "hidden": true
   },
   "outputs": [
    {
     "data": {
      "text/html": [
       "<div>\n",
       "<style scoped>\n",
       "    .dataframe tbody tr th:only-of-type {\n",
       "        vertical-align: middle;\n",
       "    }\n",
       "\n",
       "    .dataframe tbody tr th {\n",
       "        vertical-align: top;\n",
       "    }\n",
       "\n",
       "    .dataframe thead th {\n",
       "        text-align: right;\n",
       "    }\n",
       "</style>\n",
       "<table border=\"1\" class=\"dataframe\">\n",
       "  <thead>\n",
       "    <tr style=\"text-align: right;\">\n",
       "      <th></th>\n",
       "      <th>Número</th>\n",
       "      <th>Empresa</th>\n",
       "      <th>Cliente</th>\n",
       "      <th>Grupo designado</th>\n",
       "      <th>TIME</th>\n",
       "      <th>Aberto</th>\n",
       "      <th>Encerrado</th>\n",
       "      <th>Prioridade</th>\n",
       "      <th>Estado</th>\n",
       "      <th>Motivo para estar em espera</th>\n",
       "      <th>Foi violado</th>\n",
       "      <th>TIPO REGISTRO</th>\n",
       "      <th>ID_INCIDENTE</th>\n",
       "      <th>CATEG</th>\n",
       "      <th>ACAO</th>\n",
       "    </tr>\n",
       "  </thead>\n",
       "  <tbody>\n",
       "    <tr>\n",
       "      <th>0</th>\n",
       "      <td>INC20210276454</td>\n",
       "      <td>EMPRESA 34</td>\n",
       "      <td>CLIENTE 38</td>\n",
       "      <td>TVT - EXTENDED SUPPORT TEAM MIDDLEWARE</td>\n",
       "      <td>MIDDLEWARE</td>\n",
       "      <td>2021-03-21 20:26:18</td>\n",
       "      <td>2021-03-21 23:59:08</td>\n",
       "      <td>1 - Crítico</td>\n",
       "      <td>Cancelado</td>\n",
       "      <td>NaN</td>\n",
       "      <td>0.0</td>\n",
       "      <td>INCIDENTES</td>\n",
       "      <td>NaN</td>\n",
       "      <td>Outros</td>\n",
       "      <td>SEM ACAO</td>\n",
       "    </tr>\n",
       "    <tr>\n",
       "      <th>1</th>\n",
       "      <td>INC20210276129</td>\n",
       "      <td>EMPRESA 11</td>\n",
       "      <td>CLIENTE 37</td>\n",
       "      <td>TVT - EXTENDED SUPPORT TEAM SAP BASIS</td>\n",
       "      <td>SAP BASIS</td>\n",
       "      <td>2021-03-21 16:05:05</td>\n",
       "      <td>2021-03-21 23:49:59</td>\n",
       "      <td>1 - Crítico</td>\n",
       "      <td>Cancelado</td>\n",
       "      <td>NaN</td>\n",
       "      <td>0.0</td>\n",
       "      <td>INCIDENTES</td>\n",
       "      <td>NaN</td>\n",
       "      <td>Outros</td>\n",
       "      <td>RESET DE SERVICO</td>\n",
       "    </tr>\n",
       "    <tr>\n",
       "      <th>2</th>\n",
       "      <td>INC20210275797</td>\n",
       "      <td>EMPRESA 5</td>\n",
       "      <td>CLIENTE 35</td>\n",
       "      <td>TVT - EXTENDED SUPPORT TEAM WINDOWS</td>\n",
       "      <td>WINDOWS</td>\n",
       "      <td>2021-03-21 11:45:07</td>\n",
       "      <td>2021-03-21 14:46:32</td>\n",
       "      <td>1 - Crítico</td>\n",
       "      <td>Cancelado</td>\n",
       "      <td>NaN</td>\n",
       "      <td>0.0</td>\n",
       "      <td>INCIDENTES</td>\n",
       "      <td>NaN</td>\n",
       "      <td>Outros</td>\n",
       "      <td>RESET DE SERVIDOR</td>\n",
       "    </tr>\n",
       "    <tr>\n",
       "      <th>3</th>\n",
       "      <td>INC20210275455</td>\n",
       "      <td>EMPRESA 36</td>\n",
       "      <td>CLIENTE 35</td>\n",
       "      <td>TVT - EXTENDED SUPPORT TEAM WINDOWS</td>\n",
       "      <td>WINDOWS</td>\n",
       "      <td>2021-03-21 08:36:21</td>\n",
       "      <td>2021-03-21 09:08:00</td>\n",
       "      <td>4 - Baixo</td>\n",
       "      <td>Cancelado</td>\n",
       "      <td>NaN</td>\n",
       "      <td>0.0</td>\n",
       "      <td>INCIDENTES</td>\n",
       "      <td>NaN</td>\n",
       "      <td>Outros</td>\n",
       "      <td>CHAMADO NO FORNECEDOR</td>\n",
       "    </tr>\n",
       "    <tr>\n",
       "      <th>4</th>\n",
       "      <td>INC20210275046</td>\n",
       "      <td>EMPRESA 27</td>\n",
       "      <td>CLIENTE 35</td>\n",
       "      <td>TVT - EXTENDED SUPPORT TEAM WINDOWS</td>\n",
       "      <td>WINDOWS</td>\n",
       "      <td>2021-03-21 05:35:37</td>\n",
       "      <td>2021-03-21 22:55:22</td>\n",
       "      <td>2 - Alto</td>\n",
       "      <td>Cancelado</td>\n",
       "      <td>NaN</td>\n",
       "      <td>0.0</td>\n",
       "      <td>INCIDENTES</td>\n",
       "      <td>NaN</td>\n",
       "      <td>Outros</td>\n",
       "      <td>LIMPEZA DE DISCO</td>\n",
       "    </tr>\n",
       "  </tbody>\n",
       "</table>\n",
       "</div>"
      ],
      "text/plain": [
       "           Número     Empresa     Cliente  \\\n",
       "0  INC20210276454  EMPRESA 34  CLIENTE 38   \n",
       "1  INC20210276129  EMPRESA 11  CLIENTE 37   \n",
       "2  INC20210275797   EMPRESA 5  CLIENTE 35   \n",
       "3  INC20210275455  EMPRESA 36  CLIENTE 35   \n",
       "4  INC20210275046  EMPRESA 27  CLIENTE 35   \n",
       "\n",
       "                          Grupo designado        TIME              Aberto  \\\n",
       "0  TVT - EXTENDED SUPPORT TEAM MIDDLEWARE  MIDDLEWARE 2021-03-21 20:26:18   \n",
       "1   TVT - EXTENDED SUPPORT TEAM SAP BASIS   SAP BASIS 2021-03-21 16:05:05   \n",
       "2     TVT - EXTENDED SUPPORT TEAM WINDOWS     WINDOWS 2021-03-21 11:45:07   \n",
       "3     TVT - EXTENDED SUPPORT TEAM WINDOWS     WINDOWS 2021-03-21 08:36:21   \n",
       "4     TVT - EXTENDED SUPPORT TEAM WINDOWS     WINDOWS 2021-03-21 05:35:37   \n",
       "\n",
       "            Encerrado   Prioridade     Estado Motivo para estar em espera  \\\n",
       "0 2021-03-21 23:59:08  1 - Crítico  Cancelado                         NaN   \n",
       "1 2021-03-21 23:49:59  1 - Crítico  Cancelado                         NaN   \n",
       "2 2021-03-21 14:46:32  1 - Crítico  Cancelado                         NaN   \n",
       "3 2021-03-21 09:08:00    4 - Baixo  Cancelado                         NaN   \n",
       "4 2021-03-21 22:55:22     2 - Alto  Cancelado                         NaN   \n",
       "\n",
       "   Foi violado TIPO REGISTRO ID_INCIDENTE   CATEG                   ACAO  \n",
       "0          0.0    INCIDENTES          NaN  Outros               SEM ACAO  \n",
       "1          0.0    INCIDENTES          NaN  Outros       RESET DE SERVICO  \n",
       "2          0.0    INCIDENTES          NaN  Outros      RESET DE SERVIDOR  \n",
       "3          0.0    INCIDENTES          NaN  Outros  CHAMADO NO FORNECEDOR  \n",
       "4          0.0    INCIDENTES          NaN  Outros       LIMPEZA DE DISCO  "
      ]
     },
     "execution_count": 6,
     "metadata": {},
     "output_type": "execute_result"
    }
   ],
   "source": [
    "df.head(5)"
   ]
  },
  {
   "cell_type": "markdown",
   "metadata": {},
   "source": [
    "# Limpeza de dados\n",
    "A partir do método info() abaixo, ficam evidentes alguns desvios."
   ]
  },
  {
   "cell_type": "markdown",
   "metadata": {
    "heading_collapsed": true
   },
   "source": [
    "## Identificação de nulos / más classificações"
   ]
  },
  {
   "cell_type": "code",
   "execution_count": 7,
   "metadata": {
    "ExecuteTime": {
     "end_time": "2021-03-28T00:11:14.583018Z",
     "start_time": "2021-03-28T00:11:14.467128Z"
    },
    "hidden": true
   },
   "outputs": [
    {
     "name": "stdout",
     "output_type": "stream",
     "text": [
      "<class 'pandas.core.frame.DataFrame'>\n",
      "RangeIndex: 182794 entries, 0 to 182793\n",
      "Data columns (total 15 columns):\n",
      " #   Column                       Non-Null Count   Dtype         \n",
      "---  ------                       --------------   -----         \n",
      " 0   Número                       121396 non-null  object        \n",
      " 1   Empresa                      121396 non-null  object        \n",
      " 2   Cliente                      121396 non-null  object        \n",
      " 3   Grupo designado              121396 non-null  object        \n",
      " 4   TIME                         121396 non-null  object        \n",
      " 5   Aberto                       121396 non-null  datetime64[ns]\n",
      " 6   Encerrado                    121396 non-null  datetime64[ns]\n",
      " 7   Prioridade                   121396 non-null  object        \n",
      " 8   Estado                       121396 non-null  object        \n",
      " 9   Motivo para estar em espera  69 non-null      object        \n",
      " 10  Foi violado                  121396 non-null  float64       \n",
      " 11  TIPO REGISTRO                121396 non-null  object        \n",
      " 12  ID_INCIDENTE                 29997 non-null   object        \n",
      " 13  CATEG                        121388 non-null  object        \n",
      " 14  ACAO                         121396 non-null  object        \n",
      "dtypes: datetime64[ns](2), float64(1), object(12)\n",
      "memory usage: 20.9+ MB\n"
     ]
    }
   ],
   "source": [
    "df.info()"
   ]
  },
  {
   "cell_type": "code",
   "execution_count": 8,
   "metadata": {
    "ExecuteTime": {
     "end_time": "2021-03-28T00:11:14.667687Z",
     "start_time": "2021-03-28T00:11:14.598644Z"
    },
    "hidden": true
   },
   "outputs": [],
   "source": [
    "#Graficando a presença de nulos:\n",
    "#sns.set({'figure.figsize':(20,20)})\n",
    "#sns.heatmap(df.isnull(),cbar=False)"
   ]
  },
  {
   "cell_type": "markdown",
   "metadata": {
    "hidden": true
   },
   "source": [
    "Checando os nomes das colunas:"
   ]
  },
  {
   "cell_type": "code",
   "execution_count": 9,
   "metadata": {
    "ExecuteTime": {
     "end_time": "2021-03-28T00:11:14.852888Z",
     "start_time": "2021-03-28T00:11:14.683312Z"
    },
    "hidden": true
   },
   "outputs": [
    {
     "data": {
      "text/plain": [
       "Index(['Número', 'Empresa', 'Cliente', 'Grupo designado', 'TIME', 'Aberto',\n",
       "       'Encerrado', 'Prioridade', 'Estado', 'Motivo para estar em espera',\n",
       "       'Foi violado', 'TIPO REGISTRO', 'ID_INCIDENTE', 'CATEG', 'ACAO'],\n",
       "      dtype='object')"
      ]
     },
     "execution_count": 9,
     "metadata": {},
     "output_type": "execute_result"
    }
   ],
   "source": [
    "df.columns"
   ]
  },
  {
   "cell_type": "markdown",
   "metadata": {},
   "source": [
    "## Tratamentos\n",
    "Para futuras análises, é importante termos em mente quais colunas possuem valores nulos. Se necessário, realizar o tratamento adequado.\n",
    "\n",
    "1. Linhas duplicadas\n",
    "\n",
    "2. Linhas completas com nulos do tipo NaN e NaT\n",
    "\n",
    "3. Também nota-se que as colunas estão com espaços entre as palavras e misturam lower + UPPER CASE, o que pode dificultar a chamada das variáveis mais adiante.\n",
    "\n",
    "4. As seguintes colunas possuíam nulos:\n",
    "- Motivo para estar em espera\n",
    "- ID_INCIDENTE\n",
    "- CATEG\n",
    "\n",
    "5. Tipos de dados incoerentes\n",
    "- *Foi violado* como float64 quando deveria ser boolean"
   ]
  },
  {
   "cell_type": "markdown",
   "metadata": {},
   "source": [
    "### Removendo duplicados e também as linhas onde os dados são todos nulos (NaN e/ou NaT)."
   ]
  },
  {
   "cell_type": "code",
   "execution_count": 99,
   "metadata": {
    "ExecuteTime": {
     "end_time": "2021-03-28T17:05:11.756716Z",
     "start_time": "2021-03-28T17:05:09.503647Z"
    }
   },
   "outputs": [],
   "source": [
    "df = df.drop_duplicates().dropna(axis=0, how='all')"
   ]
  },
  {
   "cell_type": "markdown",
   "metadata": {},
   "source": [
    "### Removendo espaços nas laterais, transformando em lower case e substituindo espaços nos meios por underline."
   ]
  },
  {
   "cell_type": "code",
   "execution_count": 100,
   "metadata": {
    "ExecuteTime": {
     "end_time": "2021-03-28T17:05:12.383124Z",
     "start_time": "2021-03-28T17:05:12.361054Z"
    }
   },
   "outputs": [],
   "source": [
    "df.columns= df.columns.str.strip().str.lower().str.replace(' ','_')"
   ]
  },
  {
   "cell_type": "markdown",
   "metadata": {},
   "source": [
    "### Variável com nulos: *Motivo para estar em espera*\n",
    "Essa coluna só possui 69 dados, os quais se concentram em Aguardando Resolução do Problema. Parecem ser relativo a WIP (work in progress)."
   ]
  },
  {
   "cell_type": "code",
   "execution_count": 101,
   "metadata": {
    "ExecuteTime": {
     "end_time": "2021-03-28T17:05:15.675259Z",
     "start_time": "2021-03-28T17:05:15.628144Z"
    }
   },
   "outputs": [
    {
     "data": {
      "text/plain": [
       "Aguardando Resolução do Problema    50\n",
       "Aguardando Fornecedor               12\n",
       "Aguardando Solicitante               3\n",
       "Aguardando Evidência                 2\n",
       "Aguardando Fornecedor Cliente        2\n",
       "Name: motivo_para_estar_em_espera, dtype: int64"
      ]
     },
     "execution_count": 101,
     "metadata": {},
     "output_type": "execute_result"
    }
   ],
   "source": [
    "df['motivo_para_estar_em_espera'].value_counts()"
   ]
  },
  {
   "cell_type": "code",
   "execution_count": 102,
   "metadata": {
    "ExecuteTime": {
     "end_time": "2021-03-28T17:05:20.002704Z",
     "start_time": "2021-03-28T17:05:19.852574Z"
    },
    "collapsed": true
   },
   "outputs": [
    {
     "data": {
      "text/html": [
       "<div>\n",
       "<style scoped>\n",
       "    .dataframe tbody tr th:only-of-type {\n",
       "        vertical-align: middle;\n",
       "    }\n",
       "\n",
       "    .dataframe tbody tr th {\n",
       "        vertical-align: top;\n",
       "    }\n",
       "\n",
       "    .dataframe thead th {\n",
       "        text-align: right;\n",
       "    }\n",
       "</style>\n",
       "<table border=\"1\" class=\"dataframe\">\n",
       "  <thead>\n",
       "    <tr style=\"text-align: right;\">\n",
       "      <th></th>\n",
       "      <th>número</th>\n",
       "      <th>empresa</th>\n",
       "      <th>cliente</th>\n",
       "      <th>grupo_designado</th>\n",
       "      <th>time</th>\n",
       "      <th>aberto</th>\n",
       "      <th>encerrado</th>\n",
       "      <th>prioridade</th>\n",
       "      <th>estado</th>\n",
       "      <th>motivo_para_estar_em_espera</th>\n",
       "      <th>foi_violado</th>\n",
       "      <th>tipo_registro</th>\n",
       "      <th>id_incidente</th>\n",
       "      <th>categ</th>\n",
       "      <th>acao</th>\n",
       "    </tr>\n",
       "  </thead>\n",
       "  <tbody>\n",
       "    <tr>\n",
       "      <th>7013</th>\n",
       "      <td>INC20210244416</td>\n",
       "      <td>EMPRESA 8</td>\n",
       "      <td>CLIENTE 31</td>\n",
       "      <td>TVT - DATA PROTECTION OPERATION</td>\n",
       "      <td>BACKUP</td>\n",
       "      <td>2021-03-12 17:32:43</td>\n",
       "      <td>2021-03-15 19:03:14</td>\n",
       "      <td>1 - Crítico</td>\n",
       "      <td>Encerrado</td>\n",
       "      <td>Aguardando Resolução do Problema</td>\n",
       "      <td>False</td>\n",
       "      <td>INCIDENTES</td>\n",
       "      <td>NaN</td>\n",
       "      <td>INDISPONIBILIDADE</td>\n",
       "      <td>APLICACAO DE PATCH</td>\n",
       "    </tr>\n",
       "    <tr>\n",
       "      <th>7014</th>\n",
       "      <td>INC20210244415</td>\n",
       "      <td>EMPRESA 18</td>\n",
       "      <td>CLIENTE 31</td>\n",
       "      <td>TVT - DATA PROTECTION OPERATION</td>\n",
       "      <td>BACKUP</td>\n",
       "      <td>2021-03-12 17:32:39</td>\n",
       "      <td>2021-03-15 19:13:44</td>\n",
       "      <td>1 - Crítico</td>\n",
       "      <td>Encerrado</td>\n",
       "      <td>Aguardando Resolução do Problema</td>\n",
       "      <td>False</td>\n",
       "      <td>INCIDENTES</td>\n",
       "      <td>NaN</td>\n",
       "      <td>INDISPONIBILIDADE</td>\n",
       "      <td>QUERY DB</td>\n",
       "    </tr>\n",
       "    <tr>\n",
       "      <th>7015</th>\n",
       "      <td>INC20210244414</td>\n",
       "      <td>EMPRESA 8</td>\n",
       "      <td>CLIENTE 31</td>\n",
       "      <td>TVT - DATA PROTECTION OPERATION</td>\n",
       "      <td>BACKUP</td>\n",
       "      <td>2021-03-12 17:32:34</td>\n",
       "      <td>2021-03-15 19:02:45</td>\n",
       "      <td>1 - Crítico</td>\n",
       "      <td>Encerrado</td>\n",
       "      <td>Aguardando Resolução do Problema</td>\n",
       "      <td>False</td>\n",
       "      <td>INCIDENTES</td>\n",
       "      <td>NaN</td>\n",
       "      <td>OCUPACAO DE ESPACO</td>\n",
       "      <td>REFRESH IIS</td>\n",
       "    </tr>\n",
       "    <tr>\n",
       "      <th>7016</th>\n",
       "      <td>INC20210244412</td>\n",
       "      <td>EMPRESA 11</td>\n",
       "      <td>CLIENTE 31</td>\n",
       "      <td>TVT - DATA PROTECTION OPERATION</td>\n",
       "      <td>BACKUP</td>\n",
       "      <td>2021-03-12 17:32:29</td>\n",
       "      <td>2021-03-15 19:07:44</td>\n",
       "      <td>1 - Crítico</td>\n",
       "      <td>Encerrado</td>\n",
       "      <td>Aguardando Resolução do Problema</td>\n",
       "      <td>False</td>\n",
       "      <td>INCIDENTES</td>\n",
       "      <td>NaN</td>\n",
       "      <td>OCUPACAO DE ESPACO</td>\n",
       "      <td>SEM ACAO</td>\n",
       "    </tr>\n",
       "    <tr>\n",
       "      <th>7017</th>\n",
       "      <td>INC20210244411</td>\n",
       "      <td>EMPRESA 8</td>\n",
       "      <td>CLIENTE 31</td>\n",
       "      <td>TVT - DATA PROTECTION OPERATION</td>\n",
       "      <td>BACKUP</td>\n",
       "      <td>2021-03-12 17:32:25</td>\n",
       "      <td>2021-03-15 19:02:59</td>\n",
       "      <td>1 - Crítico</td>\n",
       "      <td>Encerrado</td>\n",
       "      <td>Aguardando Resolução do Problema</td>\n",
       "      <td>False</td>\n",
       "      <td>INCIDENTES</td>\n",
       "      <td>NaN</td>\n",
       "      <td>INDISPONIBILIDADE</td>\n",
       "      <td>RESET DE SERVICO</td>\n",
       "    </tr>\n",
       "    <tr>\n",
       "      <th>...</th>\n",
       "      <td>...</td>\n",
       "      <td>...</td>\n",
       "      <td>...</td>\n",
       "      <td>...</td>\n",
       "      <td>...</td>\n",
       "      <td>...</td>\n",
       "      <td>...</td>\n",
       "      <td>...</td>\n",
       "      <td>...</td>\n",
       "      <td>...</td>\n",
       "      <td>...</td>\n",
       "      <td>...</td>\n",
       "      <td>...</td>\n",
       "      <td>...</td>\n",
       "      <td>...</td>\n",
       "    </tr>\n",
       "    <tr>\n",
       "      <th>117190</th>\n",
       "      <td>601CDD7A2B1D35276AF6EB73</td>\n",
       "      <td>EMPRESA 15</td>\n",
       "      <td>CLIENTE 21</td>\n",
       "      <td>TVT - DPS - ARCHIVE</td>\n",
       "      <td>BACKUP</td>\n",
       "      <td>2021-03-12 04:44:13</td>\n",
       "      <td>2021-03-15 19:11:27</td>\n",
       "      <td>2 - Alto</td>\n",
       "      <td>Encerrado</td>\n",
       "      <td>Aguardando Resolução do Problema</td>\n",
       "      <td>True</td>\n",
       "      <td>EVENTOS</td>\n",
       "      <td>[]</td>\n",
       "      <td>OCUPACAO DE ESPACO</td>\n",
       "      <td>APLICACAO DE PATCH</td>\n",
       "    </tr>\n",
       "    <tr>\n",
       "      <th>118801</th>\n",
       "      <td>601AB2110A2B31139B5DB247</td>\n",
       "      <td>EMPRESA 15</td>\n",
       "      <td>CLIENTE 45</td>\n",
       "      <td>TVT - DPS - ARCHIVE</td>\n",
       "      <td>BACKUP</td>\n",
       "      <td>2021-03-12 04:42:22</td>\n",
       "      <td>2021-03-15 19:10:39</td>\n",
       "      <td>2 - Alto</td>\n",
       "      <td>Encerrado</td>\n",
       "      <td>Aguardando Resolução do Problema</td>\n",
       "      <td>False</td>\n",
       "      <td>EVENTOS</td>\n",
       "      <td>INC20210107324</td>\n",
       "      <td>Outros</td>\n",
       "      <td>SEM ACAO</td>\n",
       "    </tr>\n",
       "    <tr>\n",
       "      <th>119326</th>\n",
       "      <td>6019C0BCFEF77542CA7DD71C</td>\n",
       "      <td>EMPRESA 16</td>\n",
       "      <td>CLIENTE 46</td>\n",
       "      <td>TVT - DATA PROTECTION OPERATION</td>\n",
       "      <td>BACKUP</td>\n",
       "      <td>2021-03-12 17:02:06</td>\n",
       "      <td>2021-03-15 19:10:13</td>\n",
       "      <td>1 - Crítico</td>\n",
       "      <td>Encerrado</td>\n",
       "      <td>Aguardando Resolução do Problema</td>\n",
       "      <td>False</td>\n",
       "      <td>EVENTOS</td>\n",
       "      <td>INC20210105222</td>\n",
       "      <td>Outros</td>\n",
       "      <td>CHAMADO NO FORNECEDOR</td>\n",
       "    </tr>\n",
       "    <tr>\n",
       "      <th>119475</th>\n",
       "      <td>60199DE6A95E4B116860D77B</td>\n",
       "      <td>EMPRESA 4</td>\n",
       "      <td>CLIENTE 10</td>\n",
       "      <td>TVT - DATA PROTECTION OPERATION</td>\n",
       "      <td>BACKUP</td>\n",
       "      <td>2021-03-12 07:02:16</td>\n",
       "      <td>2021-03-15 19:03:47</td>\n",
       "      <td>1 - Crítico</td>\n",
       "      <td>Encerrado</td>\n",
       "      <td>Aguardando Resolução do Problema</td>\n",
       "      <td>False</td>\n",
       "      <td>EVENTOS</td>\n",
       "      <td>[]</td>\n",
       "      <td>PERFORMANCE</td>\n",
       "      <td>APLICACAO DE PATCH</td>\n",
       "    </tr>\n",
       "    <tr>\n",
       "      <th>121365</th>\n",
       "      <td>601757D220D1500E899B1BBE</td>\n",
       "      <td>EMPRESA 16</td>\n",
       "      <td>CLIENTE 46</td>\n",
       "      <td>TVT - DATA PROTECTION OPERATION</td>\n",
       "      <td>BACKUP</td>\n",
       "      <td>2021-03-12 17:02:34</td>\n",
       "      <td>2021-03-15 19:07:21</td>\n",
       "      <td>1 - Crítico</td>\n",
       "      <td>Encerrado</td>\n",
       "      <td>Aguardando Resolução do Problema</td>\n",
       "      <td>False</td>\n",
       "      <td>EVENTOS</td>\n",
       "      <td>INC20210098150</td>\n",
       "      <td>Outros</td>\n",
       "      <td>REFRESH IIS</td>\n",
       "    </tr>\n",
       "  </tbody>\n",
       "</table>\n",
       "<p>69 rows × 15 columns</p>\n",
       "</div>"
      ],
      "text/plain": [
       "                          número     empresa     cliente  \\\n",
       "7013              INC20210244416   EMPRESA 8  CLIENTE 31   \n",
       "7014              INC20210244415  EMPRESA 18  CLIENTE 31   \n",
       "7015              INC20210244414   EMPRESA 8  CLIENTE 31   \n",
       "7016              INC20210244412  EMPRESA 11  CLIENTE 31   \n",
       "7017              INC20210244411   EMPRESA 8  CLIENTE 31   \n",
       "...                          ...         ...         ...   \n",
       "117190  601CDD7A2B1D35276AF6EB73  EMPRESA 15  CLIENTE 21   \n",
       "118801  601AB2110A2B31139B5DB247  EMPRESA 15  CLIENTE 45   \n",
       "119326  6019C0BCFEF77542CA7DD71C  EMPRESA 16  CLIENTE 46   \n",
       "119475  60199DE6A95E4B116860D77B   EMPRESA 4  CLIENTE 10   \n",
       "121365  601757D220D1500E899B1BBE  EMPRESA 16  CLIENTE 46   \n",
       "\n",
       "                        grupo_designado    time              aberto  \\\n",
       "7013    TVT - DATA PROTECTION OPERATION  BACKUP 2021-03-12 17:32:43   \n",
       "7014    TVT - DATA PROTECTION OPERATION  BACKUP 2021-03-12 17:32:39   \n",
       "7015    TVT - DATA PROTECTION OPERATION  BACKUP 2021-03-12 17:32:34   \n",
       "7016    TVT - DATA PROTECTION OPERATION  BACKUP 2021-03-12 17:32:29   \n",
       "7017    TVT - DATA PROTECTION OPERATION  BACKUP 2021-03-12 17:32:25   \n",
       "...                                 ...     ...                 ...   \n",
       "117190              TVT - DPS - ARCHIVE  BACKUP 2021-03-12 04:44:13   \n",
       "118801              TVT - DPS - ARCHIVE  BACKUP 2021-03-12 04:42:22   \n",
       "119326  TVT - DATA PROTECTION OPERATION  BACKUP 2021-03-12 17:02:06   \n",
       "119475  TVT - DATA PROTECTION OPERATION  BACKUP 2021-03-12 07:02:16   \n",
       "121365  TVT - DATA PROTECTION OPERATION  BACKUP 2021-03-12 17:02:34   \n",
       "\n",
       "                 encerrado   prioridade     estado  \\\n",
       "7013   2021-03-15 19:03:14  1 - Crítico  Encerrado   \n",
       "7014   2021-03-15 19:13:44  1 - Crítico  Encerrado   \n",
       "7015   2021-03-15 19:02:45  1 - Crítico  Encerrado   \n",
       "7016   2021-03-15 19:07:44  1 - Crítico  Encerrado   \n",
       "7017   2021-03-15 19:02:59  1 - Crítico  Encerrado   \n",
       "...                    ...          ...        ...   \n",
       "117190 2021-03-15 19:11:27     2 - Alto  Encerrado   \n",
       "118801 2021-03-15 19:10:39     2 - Alto  Encerrado   \n",
       "119326 2021-03-15 19:10:13  1 - Crítico  Encerrado   \n",
       "119475 2021-03-15 19:03:47  1 - Crítico  Encerrado   \n",
       "121365 2021-03-15 19:07:21  1 - Crítico  Encerrado   \n",
       "\n",
       "             motivo_para_estar_em_espera  foi_violado tipo_registro  \\\n",
       "7013    Aguardando Resolução do Problema        False    INCIDENTES   \n",
       "7014    Aguardando Resolução do Problema        False    INCIDENTES   \n",
       "7015    Aguardando Resolução do Problema        False    INCIDENTES   \n",
       "7016    Aguardando Resolução do Problema        False    INCIDENTES   \n",
       "7017    Aguardando Resolução do Problema        False    INCIDENTES   \n",
       "...                                  ...          ...           ...   \n",
       "117190  Aguardando Resolução do Problema         True       EVENTOS   \n",
       "118801  Aguardando Resolução do Problema        False       EVENTOS   \n",
       "119326  Aguardando Resolução do Problema        False       EVENTOS   \n",
       "119475  Aguardando Resolução do Problema        False       EVENTOS   \n",
       "121365  Aguardando Resolução do Problema        False       EVENTOS   \n",
       "\n",
       "          id_incidente               categ                   acao  \n",
       "7013               NaN   INDISPONIBILIDADE     APLICACAO DE PATCH  \n",
       "7014               NaN   INDISPONIBILIDADE               QUERY DB  \n",
       "7015               NaN  OCUPACAO DE ESPACO            REFRESH IIS  \n",
       "7016               NaN  OCUPACAO DE ESPACO               SEM ACAO  \n",
       "7017               NaN   INDISPONIBILIDADE       RESET DE SERVICO  \n",
       "...                ...                 ...                    ...  \n",
       "117190              []  OCUPACAO DE ESPACO     APLICACAO DE PATCH  \n",
       "118801  INC20210107324              Outros               SEM ACAO  \n",
       "119326  INC20210105222              Outros  CHAMADO NO FORNECEDOR  \n",
       "119475              []         PERFORMANCE     APLICACAO DE PATCH  \n",
       "121365  INC20210098150              Outros            REFRESH IIS  \n",
       "\n",
       "[69 rows x 15 columns]"
      ]
     },
     "execution_count": 102,
     "metadata": {},
     "output_type": "execute_result"
    }
   ],
   "source": [
    "df[~df['motivo_para_estar_em_espera'].isna()]"
   ]
  },
  {
   "cell_type": "markdown",
   "metadata": {},
   "source": [
    "O mais sensato nesse momento seria remover essas colunas do DataFrame."
   ]
  },
  {
   "cell_type": "code",
   "execution_count": 103,
   "metadata": {
    "ExecuteTime": {
     "end_time": "2021-03-28T17:05:30.316369Z",
     "start_time": "2021-03-28T17:05:30.233866Z"
    }
   },
   "outputs": [],
   "source": [
    "df = df.drop(columns='motivo_para_estar_em_espera')"
   ]
  },
  {
   "cell_type": "markdown",
   "metadata": {},
   "source": [
    "### Variável com nulos: *ID_INCIDENTE*\n",
    "Essa coluna possui por volta de 29000 dados. Vamos entender se há alguma correlação da falta de dados com relação às outras features."
   ]
  },
  {
   "cell_type": "markdown",
   "metadata": {},
   "source": [
    "A partir do value_counts() observa-se:\n",
    "- O mesmo valor de *id_incidente* aparece mais de uma vez no DataFrame.\n",
    "- Entradas com listas vazias são a maior proporção no dataset."
   ]
  },
  {
   "cell_type": "code",
   "execution_count": 104,
   "metadata": {
    "ExecuteTime": {
     "end_time": "2021-03-28T17:05:37.581251Z",
     "start_time": "2021-03-28T17:05:37.537813Z"
    }
   },
   "outputs": [
    {
     "data": {
      "text/plain": [
       "[]                11586\n",
       "INC20210175514      300\n",
       "INC20210175754      300\n",
       "INC20210175745      300\n",
       "INC20210175482      300\n",
       "                  ...  \n",
       "INC20210114228        1\n",
       "INC20210154936        1\n",
       "INC20210108888        1\n",
       "INC20210149682        1\n",
       "INC20210129935        1\n",
       "Name: id_incidente, Length: 5621, dtype: int64"
      ]
     },
     "execution_count": 104,
     "metadata": {},
     "output_type": "execute_result"
    }
   ],
   "source": [
    "df['id_incidente'].value_counts()"
   ]
  },
  {
   "cell_type": "markdown",
   "metadata": {},
   "source": [
    "Todos os registros *id_incidente* == \"[]\" parecem ser quando o *TIPO REGISTRO* == \"EVENTOS\"."
   ]
  },
  {
   "cell_type": "code",
   "execution_count": 105,
   "metadata": {
    "ExecuteTime": {
     "end_time": "2021-03-28T17:05:40.424588Z",
     "start_time": "2021-03-28T17:05:40.378613Z"
    }
   },
   "outputs": [
    {
     "data": {
      "text/plain": [
       "EVENTOS    11586\n",
       "Name: tipo_registro, dtype: int64"
      ]
     },
     "execution_count": 105,
     "metadata": {},
     "output_type": "execute_result"
    }
   ],
   "source": [
    "df[df['id_incidente']=='[]']['tipo_registro'].value_counts()"
   ]
  },
  {
   "cell_type": "markdown",
   "metadata": {},
   "source": [
    "Mas nem todos *tipo_registro* == \"EVENTOS\" apresentam esse comportamento, sendo apenas metade."
   ]
  },
  {
   "cell_type": "code",
   "execution_count": 106,
   "metadata": {
    "ExecuteTime": {
     "end_time": "2021-03-28T17:05:42.497273Z",
     "start_time": "2021-03-28T17:05:42.429056Z"
    }
   },
   "outputs": [
    {
     "data": {
      "text/plain": [
       "INCIDENTES    91397\n",
       "EVENTOS       29999\n",
       "Name: tipo_registro, dtype: int64"
      ]
     },
     "execution_count": 106,
     "metadata": {},
     "output_type": "execute_result"
    }
   ],
   "source": [
    "df['tipo_registro'].value_counts()"
   ]
  },
  {
   "cell_type": "markdown",
   "metadata": {},
   "source": [
    "Vamos tentar encontrar uma justificativa para que os mesmos estejam faltando."
   ]
  },
  {
   "cell_type": "markdown",
   "metadata": {
    "heading_collapsed": true
   },
   "source": [
    "#### Relação com outras colunas"
   ]
  },
  {
   "cell_type": "markdown",
   "metadata": {
    "hidden": true
   },
   "source": [
    "- O *id_incidente* parece se referir a *categ* de \"BANCO DE DADOS\"."
   ]
  },
  {
   "cell_type": "code",
   "execution_count": 11,
   "metadata": {
    "ExecuteTime": {
     "end_time": "2021-03-28T14:34:39.351160Z",
     "start_time": "2021-03-28T14:34:39.326901Z"
    },
    "hidden": true
   },
   "outputs": [
    {
     "data": {
      "text/plain": [
       "BANCO DE DADOS    300\n",
       "Name: categ, dtype: int64"
      ]
     },
     "execution_count": 11,
     "metadata": {},
     "output_type": "execute_result"
    }
   ],
   "source": [
    "df[df['id_incidente']=='INC20210175489']['categ'].value_counts()"
   ]
  },
  {
   "cell_type": "code",
   "execution_count": 12,
   "metadata": {
    "ExecuteTime": {
     "end_time": "2021-03-28T14:34:40.278316Z",
     "start_time": "2021-03-28T14:34:40.253137Z"
    },
    "hidden": true
   },
   "outputs": [
    {
     "data": {
      "text/plain": [
       "BANCO DE DADOS    300\n",
       "Name: categ, dtype: int64"
      ]
     },
     "execution_count": 12,
     "metadata": {},
     "output_type": "execute_result"
    }
   ],
   "source": [
    "df[df['id_incidente']=='INC20210175512']['categ'].value_counts()"
   ]
  },
  {
   "cell_type": "markdown",
   "metadata": {},
   "source": [
    "### Variável com nulos: *categ*\n",
    "Essa coluna possui por volta de 121000 dados. Vamos entender se há alguma correlação da falta de dados com relação às outras features."
   ]
  },
  {
   "cell_type": "markdown",
   "metadata": {},
   "source": [
    "- A partir do value_counts() observamos que a *categ* \"INDISPONIBILIDADE\" é a maior, seguida de \"BANCO DE DADOS\" e o mal de todo banco de dados \"Outros\"."
   ]
  },
  {
   "cell_type": "code",
   "execution_count": 20,
   "metadata": {
    "ExecuteTime": {
     "end_time": "2021-03-28T00:11:16.417568Z",
     "start_time": "2021-03-28T00:11:16.312211Z"
    }
   },
   "outputs": [
    {
     "data": {
      "text/plain": [
       "INDISPONIBILIDADE     47194\n",
       "BANCO DE DADOS        23780\n",
       "Outros                20447\n",
       "PERFORMANCE           19211\n",
       "OCUPACAO DE ESPACO     6694\n",
       "SERVICO                3824\n",
       "PROCESSOS S.O           150\n",
       "FERRAMENTA MONIT         68\n",
       "BACKUP                   20\n",
       "Name: categ, dtype: int64"
      ]
     },
     "execution_count": 20,
     "metadata": {},
     "output_type": "execute_result"
    }
   ],
   "source": [
    "df['categ'].value_counts()"
   ]
  },
  {
   "cell_type": "code",
   "execution_count": 21,
   "metadata": {
    "ExecuteTime": {
     "end_time": "2021-03-28T00:11:16.555319Z",
     "start_time": "2021-03-28T00:11:16.461545Z"
    }
   },
   "outputs": [
    {
     "name": "stdout",
     "output_type": "stream",
     "text": [
      "<class 'pandas.core.frame.DataFrame'>\n",
      "Int64Index: 121396 entries, 0 to 121395\n",
      "Data columns (total 14 columns):\n",
      " #   Column           Non-Null Count   Dtype         \n",
      "---  ------           --------------   -----         \n",
      " 0   número           121396 non-null  object        \n",
      " 1   empresa          121396 non-null  object        \n",
      " 2   cliente          121396 non-null  object        \n",
      " 3   grupo_designado  121396 non-null  object        \n",
      " 4   time             121396 non-null  object        \n",
      " 5   aberto           121396 non-null  datetime64[ns]\n",
      " 6   encerrado        121396 non-null  datetime64[ns]\n",
      " 7   prioridade       121396 non-null  object        \n",
      " 8   estado           121396 non-null  object        \n",
      " 9   foi_violado      121396 non-null  float64       \n",
      " 10  tipo_registro    121396 non-null  object        \n",
      " 11  id_incidente     29997 non-null   object        \n",
      " 12  categ            121388 non-null  object        \n",
      " 13  acao             121396 non-null  object        \n",
      "dtypes: datetime64[ns](2), float64(1), object(11)\n",
      "memory usage: 13.9+ MB\n"
     ]
    }
   ],
   "source": [
    "df.info()"
   ]
  },
  {
   "cell_type": "markdown",
   "metadata": {},
   "source": [
    "### Correção dos tipos de dados e resetando os índices das colunas."
   ]
  },
  {
   "cell_type": "markdown",
   "metadata": {},
   "source": [
    "Os tipos de dados não estão corretos conforme o método info() mostra:"
   ]
  },
  {
   "cell_type": "code",
   "execution_count": 22,
   "metadata": {
    "ExecuteTime": {
     "end_time": "2021-03-28T00:11:16.702441Z",
     "start_time": "2021-03-28T00:11:16.570902Z"
    }
   },
   "outputs": [
    {
     "name": "stdout",
     "output_type": "stream",
     "text": [
      "<class 'pandas.core.frame.DataFrame'>\n",
      "Int64Index: 121396 entries, 0 to 121395\n",
      "Data columns (total 14 columns):\n",
      " #   Column           Non-Null Count   Dtype         \n",
      "---  ------           --------------   -----         \n",
      " 0   número           121396 non-null  object        \n",
      " 1   empresa          121396 non-null  object        \n",
      " 2   cliente          121396 non-null  object        \n",
      " 3   grupo_designado  121396 non-null  object        \n",
      " 4   time             121396 non-null  object        \n",
      " 5   aberto           121396 non-null  datetime64[ns]\n",
      " 6   encerrado        121396 non-null  datetime64[ns]\n",
      " 7   prioridade       121396 non-null  object        \n",
      " 8   estado           121396 non-null  object        \n",
      " 9   foi_violado      121396 non-null  float64       \n",
      " 10  tipo_registro    121396 non-null  object        \n",
      " 11  id_incidente     29997 non-null   object        \n",
      " 12  categ            121388 non-null  object        \n",
      " 13  acao             121396 non-null  object        \n",
      "dtypes: datetime64[ns](2), float64(1), object(11)\n",
      "memory usage: 13.9+ MB\n"
     ]
    }
   ],
   "source": [
    "df.info()"
   ]
  },
  {
   "cell_type": "markdown",
   "metadata": {},
   "source": [
    "Transformando a coluna *foi_violado* em boolean."
   ]
  },
  {
   "cell_type": "code",
   "execution_count": 107,
   "metadata": {
    "ExecuteTime": {
     "end_time": "2021-03-28T17:06:08.251370Z",
     "start_time": "2021-03-28T17:06:08.237635Z"
    }
   },
   "outputs": [],
   "source": [
    "df.foi_violado = df.foi_violado.astype('boolean')"
   ]
  },
  {
   "cell_type": "markdown",
   "metadata": {},
   "source": [
    "Resetando o index ao final da limpeza:"
   ]
  },
  {
   "cell_type": "code",
   "execution_count": 108,
   "metadata": {
    "ExecuteTime": {
     "end_time": "2021-03-28T17:06:11.314371Z",
     "start_time": "2021-03-28T17:06:11.193302Z"
    }
   },
   "outputs": [
    {
     "data": {
      "text/html": [
       "<div>\n",
       "<style scoped>\n",
       "    .dataframe tbody tr th:only-of-type {\n",
       "        vertical-align: middle;\n",
       "    }\n",
       "\n",
       "    .dataframe tbody tr th {\n",
       "        vertical-align: top;\n",
       "    }\n",
       "\n",
       "    .dataframe thead th {\n",
       "        text-align: right;\n",
       "    }\n",
       "</style>\n",
       "<table border=\"1\" class=\"dataframe\">\n",
       "  <thead>\n",
       "    <tr style=\"text-align: right;\">\n",
       "      <th></th>\n",
       "      <th>número</th>\n",
       "      <th>empresa</th>\n",
       "      <th>cliente</th>\n",
       "      <th>grupo_designado</th>\n",
       "      <th>time</th>\n",
       "      <th>aberto</th>\n",
       "      <th>encerrado</th>\n",
       "      <th>prioridade</th>\n",
       "      <th>estado</th>\n",
       "      <th>foi_violado</th>\n",
       "      <th>tipo_registro</th>\n",
       "      <th>id_incidente</th>\n",
       "      <th>categ</th>\n",
       "      <th>acao</th>\n",
       "    </tr>\n",
       "  </thead>\n",
       "  <tbody>\n",
       "    <tr>\n",
       "      <th>0</th>\n",
       "      <td>INC20210276454</td>\n",
       "      <td>EMPRESA 34</td>\n",
       "      <td>CLIENTE 38</td>\n",
       "      <td>TVT - EXTENDED SUPPORT TEAM MIDDLEWARE</td>\n",
       "      <td>MIDDLEWARE</td>\n",
       "      <td>2021-03-21 20:26:18</td>\n",
       "      <td>2021-03-21 23:59:08</td>\n",
       "      <td>1 - Crítico</td>\n",
       "      <td>Cancelado</td>\n",
       "      <td>False</td>\n",
       "      <td>INCIDENTES</td>\n",
       "      <td>NaN</td>\n",
       "      <td>Outros</td>\n",
       "      <td>SEM ACAO</td>\n",
       "    </tr>\n",
       "    <tr>\n",
       "      <th>1</th>\n",
       "      <td>INC20210276129</td>\n",
       "      <td>EMPRESA 11</td>\n",
       "      <td>CLIENTE 37</td>\n",
       "      <td>TVT - EXTENDED SUPPORT TEAM SAP BASIS</td>\n",
       "      <td>SAP BASIS</td>\n",
       "      <td>2021-03-21 16:05:05</td>\n",
       "      <td>2021-03-21 23:49:59</td>\n",
       "      <td>1 - Crítico</td>\n",
       "      <td>Cancelado</td>\n",
       "      <td>False</td>\n",
       "      <td>INCIDENTES</td>\n",
       "      <td>NaN</td>\n",
       "      <td>Outros</td>\n",
       "      <td>RESET DE SERVICO</td>\n",
       "    </tr>\n",
       "    <tr>\n",
       "      <th>2</th>\n",
       "      <td>INC20210275797</td>\n",
       "      <td>EMPRESA 5</td>\n",
       "      <td>CLIENTE 35</td>\n",
       "      <td>TVT - EXTENDED SUPPORT TEAM WINDOWS</td>\n",
       "      <td>WINDOWS</td>\n",
       "      <td>2021-03-21 11:45:07</td>\n",
       "      <td>2021-03-21 14:46:32</td>\n",
       "      <td>1 - Crítico</td>\n",
       "      <td>Cancelado</td>\n",
       "      <td>False</td>\n",
       "      <td>INCIDENTES</td>\n",
       "      <td>NaN</td>\n",
       "      <td>Outros</td>\n",
       "      <td>RESET DE SERVIDOR</td>\n",
       "    </tr>\n",
       "    <tr>\n",
       "      <th>3</th>\n",
       "      <td>INC20210275455</td>\n",
       "      <td>EMPRESA 36</td>\n",
       "      <td>CLIENTE 35</td>\n",
       "      <td>TVT - EXTENDED SUPPORT TEAM WINDOWS</td>\n",
       "      <td>WINDOWS</td>\n",
       "      <td>2021-03-21 08:36:21</td>\n",
       "      <td>2021-03-21 09:08:00</td>\n",
       "      <td>4 - Baixo</td>\n",
       "      <td>Cancelado</td>\n",
       "      <td>False</td>\n",
       "      <td>INCIDENTES</td>\n",
       "      <td>NaN</td>\n",
       "      <td>Outros</td>\n",
       "      <td>CHAMADO NO FORNECEDOR</td>\n",
       "    </tr>\n",
       "    <tr>\n",
       "      <th>4</th>\n",
       "      <td>INC20210275046</td>\n",
       "      <td>EMPRESA 27</td>\n",
       "      <td>CLIENTE 35</td>\n",
       "      <td>TVT - EXTENDED SUPPORT TEAM WINDOWS</td>\n",
       "      <td>WINDOWS</td>\n",
       "      <td>2021-03-21 05:35:37</td>\n",
       "      <td>2021-03-21 22:55:22</td>\n",
       "      <td>2 - Alto</td>\n",
       "      <td>Cancelado</td>\n",
       "      <td>False</td>\n",
       "      <td>INCIDENTES</td>\n",
       "      <td>NaN</td>\n",
       "      <td>Outros</td>\n",
       "      <td>LIMPEZA DE DISCO</td>\n",
       "    </tr>\n",
       "    <tr>\n",
       "      <th>...</th>\n",
       "      <td>...</td>\n",
       "      <td>...</td>\n",
       "      <td>...</td>\n",
       "      <td>...</td>\n",
       "      <td>...</td>\n",
       "      <td>...</td>\n",
       "      <td>...</td>\n",
       "      <td>...</td>\n",
       "      <td>...</td>\n",
       "      <td>...</td>\n",
       "      <td>...</td>\n",
       "      <td>...</td>\n",
       "      <td>...</td>\n",
       "      <td>...</td>\n",
       "    </tr>\n",
       "    <tr>\n",
       "      <th>121391</th>\n",
       "      <td>60174504A95E4B11682ECC63</td>\n",
       "      <td>EMPRESA 4</td>\n",
       "      <td>CLIENTE 10</td>\n",
       "      <td>TVT - PRO - PRODUCAO OPEN</td>\n",
       "      <td>SCHEDULAGEM</td>\n",
       "      <td>2021-03-11 21:42:49</td>\n",
       "      <td>2021-03-15 00:01:58</td>\n",
       "      <td>3 - Moderado</td>\n",
       "      <td>Encerrado</td>\n",
       "      <td>False</td>\n",
       "      <td>EVENTOS</td>\n",
       "      <td>[]</td>\n",
       "      <td>PERFORMANCE</td>\n",
       "      <td>APLICACAO DE PATCH</td>\n",
       "    </tr>\n",
       "    <tr>\n",
       "      <th>121392</th>\n",
       "      <td>6017450430B3225F0A1119C3</td>\n",
       "      <td>EMPRESA 4</td>\n",
       "      <td>CLIENTE 10</td>\n",
       "      <td>TVT - PRO - PRODUCAO OPEN</td>\n",
       "      <td>SCHEDULAGEM</td>\n",
       "      <td>2021-03-11 21:11:28</td>\n",
       "      <td>2021-03-15 00:04:11</td>\n",
       "      <td>3 - Moderado</td>\n",
       "      <td>Encerrado</td>\n",
       "      <td>False</td>\n",
       "      <td>EVENTOS</td>\n",
       "      <td>[]</td>\n",
       "      <td>INDISPONIBILIDADE</td>\n",
       "      <td>CHAMADO NO FORNECEDOR</td>\n",
       "    </tr>\n",
       "    <tr>\n",
       "      <th>121393</th>\n",
       "      <td>6017450420D1500E8991D116</td>\n",
       "      <td>EMPRESA 4</td>\n",
       "      <td>CLIENTE 10</td>\n",
       "      <td>TVT - PRO - PRODUCAO OPEN</td>\n",
       "      <td>SCHEDULAGEM</td>\n",
       "      <td>2021-03-11 22:08:21</td>\n",
       "      <td>2021-03-14 23:03:14</td>\n",
       "      <td>2 - Alto</td>\n",
       "      <td>Encerrado</td>\n",
       "      <td>False</td>\n",
       "      <td>EVENTOS</td>\n",
       "      <td>[]</td>\n",
       "      <td>Outros</td>\n",
       "      <td>SEM ACAO</td>\n",
       "    </tr>\n",
       "    <tr>\n",
       "      <th>121394</th>\n",
       "      <td>601745040A2B31139BC1A22E</td>\n",
       "      <td>EMPRESA 4</td>\n",
       "      <td>CLIENTE 10</td>\n",
       "      <td>TVT - PRO - PRODUCAO OPEN</td>\n",
       "      <td>SCHEDULAGEM</td>\n",
       "      <td>2021-03-11 22:27:21</td>\n",
       "      <td>2021-03-15 00:02:08</td>\n",
       "      <td>2 - Alto</td>\n",
       "      <td>Encerrado</td>\n",
       "      <td>False</td>\n",
       "      <td>EVENTOS</td>\n",
       "      <td>[]</td>\n",
       "      <td>Outros</td>\n",
       "      <td>RESET DE SERVIDOR</td>\n",
       "    </tr>\n",
       "    <tr>\n",
       "      <th>121395</th>\n",
       "      <td>601744E40A2B31139BC19379</td>\n",
       "      <td>EMPRESA 9</td>\n",
       "      <td>CLIENTE 39</td>\n",
       "      <td>TVT - PRO - PRODUCAO OPEN</td>\n",
       "      <td>SCHEDULAGEM</td>\n",
       "      <td>2021-03-01 11:05:21</td>\n",
       "      <td>2021-03-04 12:00:15</td>\n",
       "      <td>4 - Baixo</td>\n",
       "      <td>Encerrado</td>\n",
       "      <td>False</td>\n",
       "      <td>EVENTOS</td>\n",
       "      <td>INC20210096141</td>\n",
       "      <td>PERFORMANCE</td>\n",
       "      <td>SEM ACAO</td>\n",
       "    </tr>\n",
       "  </tbody>\n",
       "</table>\n",
       "<p>121396 rows × 14 columns</p>\n",
       "</div>"
      ],
      "text/plain": [
       "                          número     empresa     cliente  \\\n",
       "0                 INC20210276454  EMPRESA 34  CLIENTE 38   \n",
       "1                 INC20210276129  EMPRESA 11  CLIENTE 37   \n",
       "2                 INC20210275797   EMPRESA 5  CLIENTE 35   \n",
       "3                 INC20210275455  EMPRESA 36  CLIENTE 35   \n",
       "4                 INC20210275046  EMPRESA 27  CLIENTE 35   \n",
       "...                          ...         ...         ...   \n",
       "121391  60174504A95E4B11682ECC63   EMPRESA 4  CLIENTE 10   \n",
       "121392  6017450430B3225F0A1119C3   EMPRESA 4  CLIENTE 10   \n",
       "121393  6017450420D1500E8991D116   EMPRESA 4  CLIENTE 10   \n",
       "121394  601745040A2B31139BC1A22E   EMPRESA 4  CLIENTE 10   \n",
       "121395  601744E40A2B31139BC19379   EMPRESA 9  CLIENTE 39   \n",
       "\n",
       "                               grupo_designado         time  \\\n",
       "0       TVT - EXTENDED SUPPORT TEAM MIDDLEWARE   MIDDLEWARE   \n",
       "1        TVT - EXTENDED SUPPORT TEAM SAP BASIS    SAP BASIS   \n",
       "2          TVT - EXTENDED SUPPORT TEAM WINDOWS      WINDOWS   \n",
       "3          TVT - EXTENDED SUPPORT TEAM WINDOWS      WINDOWS   \n",
       "4          TVT - EXTENDED SUPPORT TEAM WINDOWS      WINDOWS   \n",
       "...                                        ...          ...   \n",
       "121391               TVT - PRO - PRODUCAO OPEN  SCHEDULAGEM   \n",
       "121392               TVT - PRO - PRODUCAO OPEN  SCHEDULAGEM   \n",
       "121393               TVT - PRO - PRODUCAO OPEN  SCHEDULAGEM   \n",
       "121394               TVT - PRO - PRODUCAO OPEN  SCHEDULAGEM   \n",
       "121395               TVT - PRO - PRODUCAO OPEN  SCHEDULAGEM   \n",
       "\n",
       "                    aberto           encerrado    prioridade     estado  \\\n",
       "0      2021-03-21 20:26:18 2021-03-21 23:59:08   1 - Crítico  Cancelado   \n",
       "1      2021-03-21 16:05:05 2021-03-21 23:49:59   1 - Crítico  Cancelado   \n",
       "2      2021-03-21 11:45:07 2021-03-21 14:46:32   1 - Crítico  Cancelado   \n",
       "3      2021-03-21 08:36:21 2021-03-21 09:08:00     4 - Baixo  Cancelado   \n",
       "4      2021-03-21 05:35:37 2021-03-21 22:55:22      2 - Alto  Cancelado   \n",
       "...                    ...                 ...           ...        ...   \n",
       "121391 2021-03-11 21:42:49 2021-03-15 00:01:58  3 - Moderado  Encerrado   \n",
       "121392 2021-03-11 21:11:28 2021-03-15 00:04:11  3 - Moderado  Encerrado   \n",
       "121393 2021-03-11 22:08:21 2021-03-14 23:03:14      2 - Alto  Encerrado   \n",
       "121394 2021-03-11 22:27:21 2021-03-15 00:02:08      2 - Alto  Encerrado   \n",
       "121395 2021-03-01 11:05:21 2021-03-04 12:00:15     4 - Baixo  Encerrado   \n",
       "\n",
       "        foi_violado tipo_registro    id_incidente              categ  \\\n",
       "0             False    INCIDENTES             NaN             Outros   \n",
       "1             False    INCIDENTES             NaN             Outros   \n",
       "2             False    INCIDENTES             NaN             Outros   \n",
       "3             False    INCIDENTES             NaN             Outros   \n",
       "4             False    INCIDENTES             NaN             Outros   \n",
       "...             ...           ...             ...                ...   \n",
       "121391        False       EVENTOS              []        PERFORMANCE   \n",
       "121392        False       EVENTOS              []  INDISPONIBILIDADE   \n",
       "121393        False       EVENTOS              []             Outros   \n",
       "121394        False       EVENTOS              []             Outros   \n",
       "121395        False       EVENTOS  INC20210096141        PERFORMANCE   \n",
       "\n",
       "                         acao  \n",
       "0                    SEM ACAO  \n",
       "1            RESET DE SERVICO  \n",
       "2           RESET DE SERVIDOR  \n",
       "3       CHAMADO NO FORNECEDOR  \n",
       "4            LIMPEZA DE DISCO  \n",
       "...                       ...  \n",
       "121391     APLICACAO DE PATCH  \n",
       "121392  CHAMADO NO FORNECEDOR  \n",
       "121393               SEM ACAO  \n",
       "121394      RESET DE SERVIDOR  \n",
       "121395               SEM ACAO  \n",
       "\n",
       "[121396 rows x 14 columns]"
      ]
     },
     "execution_count": 108,
     "metadata": {},
     "output_type": "execute_result"
    }
   ],
   "source": [
    "df.reset_index(drop=True)"
   ]
  },
  {
   "cell_type": "markdown",
   "metadata": {},
   "source": [
    "# Exploração de dados\n",
    "Aparentemente estamos lidando com um serviço de tickets, nos quais há empresas e clientes que os criam.\n",
    "\n",
    "Esses tickets são designados a um grupo e seu respectivo time.\n",
    "\n",
    "Vamos explorar um pouco mais essas colunas."
   ]
  },
  {
   "cell_type": "markdown",
   "metadata": {
    "heading_collapsed": true
   },
   "source": [
    "## Empresas"
   ]
  },
  {
   "cell_type": "code",
   "execution_count": 25,
   "metadata": {
    "ExecuteTime": {
     "end_time": "2021-03-28T00:11:16.999913Z",
     "start_time": "2021-03-28T00:11:16.934320Z"
    },
    "hidden": true
   },
   "outputs": [
    {
     "data": {
      "text/plain": [
       "EMPRESA 36    30821\n",
       "EMPRESA 12    21769\n",
       "EMPRESA 15    12018\n",
       "EMPRESA 5     10590\n",
       "EMPRESA 4      5493\n",
       "EMPRESA 9      4904\n",
       "EMPRESA 23     4313\n",
       "EMPRESA 16     4106\n",
       "EMPRESA 21     3091\n",
       "EMPRESA 18     2961\n",
       "EMPRESA 14     2692\n",
       "EMPRESA 11     1773\n",
       "EMPRESA 34     1675\n",
       "EMPRESA 19     1573\n",
       "EMPRESA 40     1306\n",
       "EMPRESA 7      1163\n",
       "EMPRESA 8      1155\n",
       "EMPRESA 13     1122\n",
       "EMPRESA 22     1061\n",
       "EMPRESA 6      1049\n",
       "EMPRESA 38      969\n",
       "EMPRESA 32      885\n",
       "EMPRESA 20      758\n",
       "EMPRESA 43      717\n",
       "EMPRESA 25      566\n",
       "EMPRESA 27      524\n",
       "EMPRESA 31      472\n",
       "EMPRESA 44      442\n",
       "EMPRESA 3       378\n",
       "EMPRESA 30      361\n",
       "EMPRESA 42      187\n",
       "EMPRESA 17      160\n",
       "EMPRESA 28      157\n",
       "EMPRESA 55       60\n",
       "EMPRESA 45       28\n",
       "EMPRESA 35       25\n",
       "EMPRESA 33       24\n",
       " 0               21\n",
       "EMPRESA 10       17\n",
       "EMPRESA 51        5\n",
       "EMPRESA -2        2\n",
       "EMPRESA 24        2\n",
       "EMPRESA 29        1\n",
       "Name: empresa, dtype: int64"
      ]
     },
     "execution_count": 25,
     "metadata": {},
     "output_type": "execute_result"
    }
   ],
   "source": [
    "df['empresa'].value_counts()"
   ]
  },
  {
   "cell_type": "markdown",
   "metadata": {
    "hidden": true
   },
   "source": [
    "Há uma empresa com o nome \"0\". Tem pouca expressividade então deixaremos no momento como está, futuramente caso seja necessário trabalhamos nessa variável."
   ]
  },
  {
   "cell_type": "markdown",
   "metadata": {
    "hidden": true
   },
   "source": [
    "A empresa 36, 12,  15 e 5 são as principais atreladas aos chamados registrados."
   ]
  },
  {
   "cell_type": "code",
   "execution_count": 26,
   "metadata": {
    "ExecuteTime": {
     "end_time": "2021-03-28T00:11:18.291009Z",
     "start_time": "2021-03-28T00:11:17.028116Z"
    },
    "hidden": true
   },
   "outputs": [
    {
     "data": {
      "image/png": "[encoded data removed]",
      "text/plain": [
       "<Figure size 576x288 with 1 Axes>"
      ]
     },
     "metadata": {
      "needs_background": "light"
     },
     "output_type": "display_data"
    }
   ],
   "source": [
    "plt.figure(figsize=(8, 4))\n",
    "plt.title('Empresas')\n",
    "df['empresa'].value_counts().plot.bar();"
   ]
  },
  {
   "cell_type": "markdown",
   "metadata": {
    "hidden": true
   },
   "source": [
    "Como temos uma lista grande de empresas (43), vamos observar apenas as 7 mais frequentes e saber quanto representam do total:"
   ]
  },
  {
   "cell_type": "code",
   "execution_count": 169,
   "metadata": {
    "ExecuteTime": {
     "end_time": "2021-03-28T01:21:40.059596Z",
     "start_time": "2021-03-28T01:21:40.029225Z"
    },
    "hidden": true
   },
   "outputs": [],
   "source": [
    "#Construindo um dataframe com os percentuais e cumulativos:\n",
    "pareto_df = pd.DataFrame(data=df['empresa'].value_counts())\n",
    "pareto_df = pareto_df.sort_values(by='empresa',ascending=False)\n",
    "pareto_df[\"perc\"] = pareto_df[\"empresa\"]/pareto_df[\"empresa\"].sum()*100\n",
    "pareto_df[\"cumulativo\"] = pareto_df[\"empresa\"].cumsum()/pareto_df[\"empresa\"].sum()*100"
   ]
  },
  {
   "cell_type": "code",
   "execution_count": 221,
   "metadata": {
    "ExecuteTime": {
     "end_time": "2021-03-28T02:10:06.409700Z",
     "start_time": "2021-03-28T02:10:06.380045Z"
    },
    "code_folding": [],
    "hidden": true,
    "scrolled": false
   },
   "outputs": [
    {
     "data": {
      "text/html": [
       "<div>\n",
       "<style scoped>\n",
       "    .dataframe tbody tr th:only-of-type {\n",
       "        vertical-align: middle;\n",
       "    }\n",
       "\n",
       "    .dataframe tbody tr th {\n",
       "        vertical-align: top;\n",
       "    }\n",
       "\n",
       "    .dataframe thead th {\n",
       "        text-align: right;\n",
       "    }\n",
       "</style>\n",
       "<table border=\"1\" class=\"dataframe\">\n",
       "  <thead>\n",
       "    <tr style=\"text-align: right;\">\n",
       "      <th></th>\n",
       "      <th>empresa</th>\n",
       "      <th>perc</th>\n",
       "      <th>cumulativo</th>\n",
       "    </tr>\n",
       "  </thead>\n",
       "  <tbody>\n",
       "    <tr>\n",
       "      <th>EMPRESA 36</th>\n",
       "      <td>30821</td>\n",
       "      <td>25.388810</td>\n",
       "      <td>25.388810</td>\n",
       "    </tr>\n",
       "    <tr>\n",
       "      <th>EMPRESA 12</th>\n",
       "      <td>21769</td>\n",
       "      <td>17.932222</td>\n",
       "      <td>43.321032</td>\n",
       "    </tr>\n",
       "    <tr>\n",
       "      <th>EMPRESA 15</th>\n",
       "      <td>12018</td>\n",
       "      <td>9.899832</td>\n",
       "      <td>53.220864</td>\n",
       "    </tr>\n",
       "    <tr>\n",
       "      <th>EMPRESA 5</th>\n",
       "      <td>10590</td>\n",
       "      <td>8.723516</td>\n",
       "      <td>61.944380</td>\n",
       "    </tr>\n",
       "    <tr>\n",
       "      <th>EMPRESA 4</th>\n",
       "      <td>5493</td>\n",
       "      <td>4.524861</td>\n",
       "      <td>66.469241</td>\n",
       "    </tr>\n",
       "    <tr>\n",
       "      <th>EMPRESA 9</th>\n",
       "      <td>4904</td>\n",
       "      <td>4.039672</td>\n",
       "      <td>70.508913</td>\n",
       "    </tr>\n",
       "    <tr>\n",
       "      <th>EMPRESA 23</th>\n",
       "      <td>4313</td>\n",
       "      <td>3.552835</td>\n",
       "      <td>74.061748</td>\n",
       "    </tr>\n",
       "    <tr>\n",
       "      <th>EMPRESA 16</th>\n",
       "      <td>4106</td>\n",
       "      <td>3.382319</td>\n",
       "      <td>77.444067</td>\n",
       "    </tr>\n",
       "  </tbody>\n",
       "</table>\n",
       "</div>"
      ],
      "text/plain": [
       "            empresa       perc  cumulativo\n",
       "EMPRESA 36    30821  25.388810   25.388810\n",
       "EMPRESA 12    21769  17.932222   43.321032\n",
       "EMPRESA 15    12018   9.899832   53.220864\n",
       "EMPRESA 5     10590   8.723516   61.944380\n",
       "EMPRESA 4      5493   4.524861   66.469241\n",
       "EMPRESA 9      4904   4.039672   70.508913\n",
       "EMPRESA 23     4313   3.552835   74.061748\n",
       "EMPRESA 16     4106   3.382319   77.444067"
      ]
     },
     "execution_count": 221,
     "metadata": {},
     "output_type": "execute_result"
    }
   ],
   "source": [
    "#Verificando o dataframe:\n",
    "pareto_df.head(8)"
   ]
  },
  {
   "cell_type": "code",
   "execution_count": 224,
   "metadata": {
    "ExecuteTime": {
     "end_time": "2021-03-28T02:11:36.609906Z",
     "start_time": "2021-03-28T02:11:36.165618Z"
    },
    "hidden": true
   },
   "outputs": [
    {
     "data": {
      "image/png": "[encoded data removed]",
      "text/plain": [
       "<Figure size 432x288 with 2 Axes>"
      ]
     },
     "metadata": {},
     "output_type": "display_data"
    },
    {
     "name": "stdout",
     "output_type": "stream",
     "text": [
      "\n",
      "Mais de 50% dos registros foram gerados por 3 empresas e quase 80% de todos os registros foram gerados por 8 empresas.\n",
      "Importante notar que essas 8 empresas são aproximademente apenas 18% do número total de empresas com registros gerados.\n",
      "O comportamento se assemelha ao de uma distribuição de Pareto.\n",
      "A EMPRESA 36 tem quase 25% de todos os registros gerados no sistema.\n",
      "\n"
     ]
    }
   ],
   "source": [
    "#Construindo o diagrama de Pareto para a quantidade de empresas:\n",
    "\n",
    "#Criando o espaço/figura do gráfico:\n",
    "fig, ax = plt.subplots()\n",
    "\n",
    "#Criando o eixo de barplot:\n",
    "ax.bar(pareto_df.index, pareto_df[\"empresa\"], color=\"C0\")\n",
    "\n",
    "#Criando o eixo de lineplot com cumulativos:\n",
    "ax2 = ax.twinx()\n",
    "ax2.plot(pareto_df.index, pareto_df[\"cumulativo\"], color=\"C1\", marker=\"o\", ms=10)\n",
    "ax2.yaxis.set_major_formatter(PercentFormatter())\n",
    "\n",
    "#Adicionar os ticks nos dois eixos y:\n",
    "ax.tick_params(axis=\"y\", colors=\"C0\")\n",
    "ax2.tick_params(axis=\"y\", colors=\"C1\")\n",
    "\n",
    "#Adicionar um grid laranja:\n",
    "ax2.grid(b = True, color ='orange',\n",
    "        linestyle ='-.', linewidth = 1.0,\n",
    "        alpha = 0.5)\n",
    "\n",
    "#Estabelecendo as descrições dos eixos e título do gráfico:\n",
    "plt.ylabel(\"Percentual de registros\")\n",
    "plt.title(\"Pareto de empresas\")\n",
    "\n",
    "#Estabelecendo os limites do gráfico:\n",
    "plt.xlim(-1,7)\n",
    "plt.ylim(0,100)\n",
    "\n",
    "#Rotacionar os labels de x para melhor visualização:\n",
    "fig.autofmt_xdate(rotation=45)\n",
    "\n",
    "#Mostrar o gráfico ao final:\n",
    "fig.tight_layout()\n",
    "plt.show()\n",
    "\n",
    "print(f\"\"\"\n",
    "Mais de 50% dos registros foram gerados por 3 empresas e quase 80% de todos os registros foram gerados por 8 empresas.\n",
    "Importante notar que essas 8 empresas são aproximademente apenas {int(8/len(df['empresa'].unique())*100)}% do número total de empresas com registros gerados.\n",
    "O comportamento se assemelha ao de uma distribuição de Pareto.\n",
    "A EMPRESA 36 tem quase 25% de todos os registros gerados no sistema.\n",
    "\"\"\")"
   ]
  },
  {
   "cell_type": "markdown",
   "metadata": {
    "heading_collapsed": true
   },
   "source": [
    "## Clientes"
   ]
  },
  {
   "cell_type": "markdown",
   "metadata": {
    "hidden": true
   },
   "source": [
    "Vamos identificar os principais clientes dentro das top 4 empresas vistas anteriormente (representando 60% dos tickets)."
   ]
  },
  {
   "cell_type": "code",
   "execution_count": 230,
   "metadata": {
    "ExecuteTime": {
     "end_time": "2021-03-28T02:14:02.279432Z",
     "start_time": "2021-03-28T02:14:01.554694Z"
    },
    "code_folding": [],
    "hidden": true
   },
   "outputs": [
    {
     "data": {
      "image/png": "[encoded data removed]",
      "text/plain": [
       "<Figure size 576x576 with 4 Axes>"
      ]
     },
     "metadata": {
      "needs_background": "light"
     },
     "output_type": "display_data"
    }
   ],
   "source": [
    "#Criação do gráfico onde são mostradas as empresas e respectivos clientes com mais tickets gerados.\n",
    "\n",
    "#Criando uma estrutura 2 x 2 de figuras e eixos:\n",
    "fig, axes = plt.subplots (2, 2, figsize=(8, 8))\n",
    "\n",
    "#Definindo somente os 4 primeiros clientes de cada empresa, com a identificação da empresa.\n",
    "\n",
    "ax1 = df[df['empresa']=='EMPRESA 36']['cliente'].value_counts().nlargest(5).plot(kind='bar', ax=axes[0,0])\n",
    "ax1.title.set_text('EMPRESA 36 - 1o lugar em tickets')\n",
    "ax1.grid(b = True, color ='grey',\n",
    "        linestyle ='-.', linewidth = 0.5,\n",
    "        alpha = 0.2)\n",
    "\n",
    "ax2 = df[df['empresa']=='EMPRESA 12']['cliente'].value_counts().nlargest(5).plot(kind='bar', ax=axes[0,1])\n",
    "ax2.title.set_text('EMPRESA 12 - 2o lugar em tickets')\n",
    "ax2.grid(b = True, color ='grey',\n",
    "        linestyle ='-.', linewidth = 0.5,\n",
    "        alpha = 0.2)\n",
    "\n",
    "ax3 = df[df['empresa']=='EMPRESA 15']['cliente'].value_counts().nlargest(5).plot(kind='bar', ax=axes[1,0])\n",
    "ax3.title.set_text('EMPRESA 15 - 3o lugar em tickets')\n",
    "ax3.grid(b = True, color ='grey',\n",
    "        linestyle ='-.', linewidth = 0.5,\n",
    "        alpha = 0.2)\n",
    "\n",
    "ax4 = df[df['empresa']=='EMPRESA 5']['cliente'].value_counts().nlargest(5).plot(kind='bar', ax=axes[1,1])\n",
    "ax4.title.set_text('EMPRESA 5 - 4o lugar em tickets')\n",
    "ax4.grid(b = True, color ='grey',\n",
    "        linestyle ='-.', linewidth = 0.5,\n",
    "        alpha = 0.2)\n",
    "\n",
    "#Para encaixar todos os gráficos sem overlapping:\n",
    "fig.tight_layout();"
   ]
  },
  {
   "cell_type": "code",
   "execution_count": 259,
   "metadata": {
    "ExecuteTime": {
     "end_time": "2021-03-28T02:29:51.906911Z",
     "start_time": "2021-03-28T02:29:51.822608Z"
    },
    "hidden": true
   },
   "outputs": [
    {
     "name": "stdout",
     "output_type": "stream",
     "text": [
      "\n",
      "São 21167 registros somente em 5 clientes - equivalente a 17% do total de registros.\n",
      "\n"
     ]
    }
   ],
   "source": [
    "#Calculando o número de registros referentes aos clientes com mais de 4000 registros.\n",
    "top_registros = len(df[\n",
    "    (df['empresa']=='EMPRESA 36') & (df['cliente']=='CLIENTE 25')\n",
    "    |\n",
    "    (df['empresa']=='EMPRESA 12') & ((df['cliente']=='CLIENTE 19')|df['cliente']=='CLIENTE 42')\n",
    "    |\n",
    "    (df['empresa']=='EMPRESA 15') & ((df['cliente']=='CLIENTE 45')|df['cliente']=='CLIENTE 21')\n",
    "    |\n",
    "    (df['empresa']=='EMPRESA 5') & (df['cliente']=='CLIENTE 25')\n",
    "])\n",
    "\n",
    "print(f\"\"\"\n",
    "São {top_registros} registros somente em 5 clientes - equivalente a {int(top_registros/len(df)*100)}% do total de registros.\n",
    "\"\"\")"
   ]
  },
  {
   "cell_type": "markdown",
   "metadata": {
    "hidden": true
   },
   "source": [
    "Podemos tirar algumas conclusões:\n",
    "\n",
    "1- São poucos clientes dentro das empresas que são representativos em número de tickets gerados.\n",
    "\n",
    "- Na EMPRESA 36, o CLIENTE 25 é o principal.\n",
    "\n",
    "- Na EMPRESA 12, a distribuição é mais uniforme.\n",
    "\n",
    "- Na EMPRESA 15, o CLIENTE 45 e CLIENTE 21 são os únicos praticamente.\n",
    "\n",
    "- Na EMPRESA 5, o CLIENTE 25 é o principal.\n",
    "\n",
    "\n",
    "- Com exceção do principal cliente geral (CLIENTE 25) da EMPRESA 36, que possui quase 14000 tickets gerados, os principais geradores de tickets de cada empresa estão na faixa de 4000-15000 tickets para o período fornecido pelo dataset (próximo de 6 dias).\n",
    "\n",
    "2- Notamos que há clientes com a mesma identificação porém imagina-se que sejam entidades distintas. Ou seja, o CLIENTE 25 da EMPRESA 36 possivelmente não é o mesmo CLIENTE 25 da EMPRESA 5. Talvez fosse interessante atrelar um nome único aos clientes."
   ]
  },
  {
   "cell_type": "markdown",
   "metadata": {
    "hidden": true
   },
   "source": [
    "Porém conseguimos identificar quais são as necessidades desses clientes em termos de *time*."
   ]
  },
  {
   "cell_type": "code",
   "execution_count": 242,
   "metadata": {
    "ExecuteTime": {
     "end_time": "2021-03-28T02:18:49.429435Z",
     "start_time": "2021-03-28T02:18:49.415879Z"
    },
    "hidden": true
   },
   "outputs": [],
   "source": [
    "#df.plot(\n",
    "#    x = 'empresa',\n",
    "#    kind = 'barh',\n",
    "#    stacked = True,\n",
    "#    title = 'Stacked Bar Graph',\n",
    "#    mark_right = True)"
   ]
  },
  {
   "cell_type": "markdown",
   "metadata": {
    "hidden": true
   },
   "source": [
    "Quais são as criticidades identificadas nesses clientes?"
   ]
  },
  {
   "cell_type": "code",
   "execution_count": null,
   "metadata": {
    "hidden": true
   },
   "outputs": [],
   "source": []
  },
  {
   "cell_type": "markdown",
   "metadata": {},
   "source": [
    "## Tempo de resolução dos tickets"
   ]
  },
  {
   "cell_type": "code",
   "execution_count": 109,
   "metadata": {
    "ExecuteTime": {
     "end_time": "2021-03-28T17:06:51.579430Z",
     "start_time": "2021-03-28T17:06:51.543558Z"
    }
   },
   "outputs": [],
   "source": [
    "df['dif'] = df['encerrado'] - df['aberto']"
   ]
  },
  {
   "cell_type": "markdown",
   "metadata": {},
   "source": [
    "Extraindo o número de horas da diferença:"
   ]
  },
  {
   "cell_type": "code",
   "execution_count": 110,
   "metadata": {
    "ExecuteTime": {
     "end_time": "2021-03-28T17:06:52.578626Z",
     "start_time": "2021-03-28T17:06:52.559981Z"
    }
   },
   "outputs": [],
   "source": [
    "df['dif_hours'] = df['dif'].astype('timedelta64[h]')"
   ]
  },
  {
   "cell_type": "code",
   "execution_count": 233,
   "metadata": {
    "ExecuteTime": {
     "end_time": "2021-03-28T02:14:24.334569Z",
     "start_time": "2021-03-28T02:14:24.324735Z"
    }
   },
   "outputs": [
    {
     "data": {
      "text/plain": [
       "Index(['número', 'empresa', 'cliente', 'grupo_designado', 'time', 'aberto',\n",
       "       'encerrado', 'prioridade', 'estado', 'foi_violado', 'tipo_registro',\n",
       "       'id_incidente', 'categ', 'acao', 'dif', 'dif_hours'],\n",
       "      dtype='object')"
      ]
     },
     "execution_count": 233,
     "metadata": {},
     "output_type": "execute_result"
    }
   ],
   "source": [
    "#Checando se as colunas novas dif e dif_hours apareceram - OK!\n",
    "df.columns"
   ]
  },
  {
   "cell_type": "markdown",
   "metadata": {},
   "source": [
    "Conseguimos então construir um boxplot:"
   ]
  },
  {
   "cell_type": "code",
   "execution_count": 18,
   "metadata": {
    "ExecuteTime": {
     "end_time": "2021-03-28T14:37:07.552566Z",
     "start_time": "2021-03-28T14:37:06.587437Z"
    }
   },
   "outputs": [
    {
     "data": {
      "image/png": "[encoded data removed]",
      "text/plain": [
       "<Figure size 1224x576 with 1 Axes>"
      ]
     },
     "metadata": {},
     "output_type": "display_data"
    }
   ],
   "source": [
    "sns.set_theme(style=\"whitegrid\")\n",
    "ax = sns.boxplot(y=df[\"dif_hours\"], x=df[\"time\"])"
   ]
  },
  {
   "cell_type": "markdown",
   "metadata": {},
   "source": [
    "Os serviços relacionados a BACKUP possuem muitos outliers. Por alguma razão esses chamados demoram muito para serem fechados.\n",
    "\n",
    "Enquanto isso, os serviços de MAINFRAME, SECURITY, GAO e MIDDLEWARE são fechados em até 100h."
   ]
  },
  {
   "cell_type": "markdown",
   "metadata": {},
   "source": [
    "É importante ressaltar que o serviço de BACKUP consta como segundo mais realizado (somente atrás de SCHEDULAGEM), conforme contagem abaixo, e possivelmente deve estar impactando negativamente o KPI de tempo de resposta nos serviços da área respondente."
   ]
  },
  {
   "cell_type": "code",
   "execution_count": 19,
   "metadata": {
    "ExecuteTime": {
     "end_time": "2021-03-28T14:37:09.468040Z",
     "start_time": "2021-03-28T14:37:09.434476Z"
    }
   },
   "outputs": [
    {
     "data": {
      "text/plain": [
       "SCHEDULAGEM         39003\n",
       "BACKUP              23447\n",
       "WINDOWS             13772\n",
       "MAINFRAME           12306\n",
       "NETWORK              6520\n",
       "SAP BASIS            6256\n",
       "UNIX                 5441\n",
       "DATABASE             4883\n",
       "FITOTECA             3902\n",
       "MIDDLEWARE           2738\n",
       "SECURITY             1971\n",
       "INFRA & SERVICES      607\n",
       "GAO                   550\n",
       "Name: time, dtype: int64"
      ]
     },
     "execution_count": 19,
     "metadata": {},
     "output_type": "execute_result"
    }
   ],
   "source": [
    "df['time'].value_counts()\n",
    "#Graficamente:\n",
    "#ax = sns.barplot(x=\"time\", y=\"dif_hours\", data=df, estimator=median)"
   ]
  },
  {
   "cell_type": "code",
   "execution_count": 236,
   "metadata": {
    "ExecuteTime": {
     "end_time": "2021-03-28T02:14:26.024601Z",
     "start_time": "2021-03-28T02:14:25.714766Z"
    }
   },
   "outputs": [
    {
     "data": {
      "text/plain": [
       "<AxesSubplot:title={'center':'Serviços realizados'}>"
      ]
     },
     "execution_count": 236,
     "metadata": {},
     "output_type": "execute_result"
    },
    {
     "data": {
      "image/png": "[encoded data removed]",
      "text/plain": [
       "<Figure size 432x288 with 1 Axes>"
      ]
     },
     "metadata": {},
     "output_type": "display_data"
    }
   ],
   "source": [
    "plt.title('Serviços realizados')\n",
    "df['time'].value_counts().plot.bar()"
   ]
  },
  {
   "cell_type": "markdown",
   "metadata": {
    "ExecuteTime": {
     "end_time": "2021-03-26T22:18:54.751386Z",
     "start_time": "2021-03-26T22:18:54.742320Z"
    }
   },
   "source": [
    "Outra conclusão que conseguimos tirar também é sobre o tempo de fechamento das ações *dif_hours* versus *prioridade*.\n",
    "- O tempo de fechamento das ações críticas está similar ou maior do que o tempo para as de menor criticidade, necessário revisar a razão.\n",
    "- Existem muitos outliers."
   ]
  },
  {
   "cell_type": "code",
   "execution_count": 237,
   "metadata": {
    "ExecuteTime": {
     "end_time": "2021-03-28T02:14:26.224644Z",
     "start_time": "2021-03-28T02:14:26.205000Z"
    }
   },
   "outputs": [
    {
     "data": {
      "text/plain": [
       "4 - Baixo       40076\n",
       "2 - Alto        29529\n",
       "1 - Crítico     28399\n",
       "3 - Moderado    23392\n",
       "Name: prioridade, dtype: int64"
      ]
     },
     "execution_count": 237,
     "metadata": {},
     "output_type": "execute_result"
    }
   ],
   "source": [
    "df['prioridade'].value_counts()"
   ]
  },
  {
   "cell_type": "code",
   "execution_count": 17,
   "metadata": {
    "ExecuteTime": {
     "end_time": "2021-03-28T14:36:53.109710Z",
     "start_time": "2021-03-28T14:36:52.459848Z"
    }
   },
   "outputs": [
    {
     "data": {
      "image/png": "[encoded data removed]",
      "text/plain": [
       "<Figure size 1224x576 with 1 Axes>"
      ]
     },
     "metadata": {},
     "output_type": "display_data"
    }
   ],
   "source": [
    "sns.set(rc={'figure.figsize':(17,8)})\n",
    "sns.set_theme(style=\"whitegrid\")\n",
    "order_list = ['1 - Crítico', '2 - Alto', '3 - Moderado', '4 - Baixo']\n",
    "ax2 = sns.boxplot(y=df[\"dif_hours\"], x=df[\"prioridade\"], order=order_list)"
   ]
  },
  {
   "cell_type": "code",
   "execution_count": 239,
   "metadata": {
    "ExecuteTime": {
     "end_time": "2021-03-28T02:14:27.534608Z",
     "start_time": "2021-03-28T02:14:27.514503Z"
    },
    "collapsed": true
   },
   "outputs": [
    {
     "data": {
      "text/plain": [
       "INCIDENTES    91397\n",
       "EVENTOS       29999\n",
       "Name: tipo_registro, dtype: int64"
      ]
     },
     "execution_count": 239,
     "metadata": {},
     "output_type": "execute_result"
    }
   ],
   "source": [
    "df['tipo_registro'].value_counts()"
   ]
  },
  {
   "cell_type": "code",
   "execution_count": 240,
   "metadata": {
    "ExecuteTime": {
     "end_time": "2021-03-28T02:14:28.234885Z",
     "start_time": "2021-03-28T02:14:28.184821Z"
    },
    "collapsed": true
   },
   "outputs": [
    {
     "data": {
      "text/html": [
       "<div>\n",
       "<style scoped>\n",
       "    .dataframe tbody tr th:only-of-type {\n",
       "        vertical-align: middle;\n",
       "    }\n",
       "\n",
       "    .dataframe tbody tr th {\n",
       "        vertical-align: top;\n",
       "    }\n",
       "\n",
       "    .dataframe thead th {\n",
       "        text-align: right;\n",
       "    }\n",
       "</style>\n",
       "<table border=\"1\" class=\"dataframe\">\n",
       "  <thead>\n",
       "    <tr style=\"text-align: right;\">\n",
       "      <th></th>\n",
       "      <th>número</th>\n",
       "      <th>empresa</th>\n",
       "      <th>cliente</th>\n",
       "      <th>grupo_designado</th>\n",
       "      <th>time</th>\n",
       "      <th>aberto</th>\n",
       "      <th>encerrado</th>\n",
       "      <th>prioridade</th>\n",
       "      <th>estado</th>\n",
       "      <th>foi_violado</th>\n",
       "      <th>tipo_registro</th>\n",
       "      <th>id_incidente</th>\n",
       "      <th>categ</th>\n",
       "      <th>acao</th>\n",
       "      <th>dif</th>\n",
       "      <th>dif_hours</th>\n",
       "    </tr>\n",
       "  </thead>\n",
       "  <tbody>\n",
       "    <tr>\n",
       "      <th>91170</th>\n",
       "      <td>INC20207368253</td>\n",
       "      <td>EMPRESA 12</td>\n",
       "      <td>CLIENTE 25</td>\n",
       "      <td>TVT - PRO - PRODUCAO OPEN</td>\n",
       "      <td>SCHEDULAGEM</td>\n",
       "      <td>2020-12-21 05:24:05</td>\n",
       "      <td>2021-03-14 16:00:43</td>\n",
       "      <td>1 - Crítico</td>\n",
       "      <td>Encerrado</td>\n",
       "      <td>True</td>\n",
       "      <td>INCIDENTES</td>\n",
       "      <td>NaN</td>\n",
       "      <td>INDISPONIBILIDADE</td>\n",
       "      <td>RESET DE SERVIDOR</td>\n",
       "      <td>83 days 10:36:38</td>\n",
       "      <td>2002.0</td>\n",
       "    </tr>\n",
       "    <tr>\n",
       "      <th>91177</th>\n",
       "      <td>INC20207366584</td>\n",
       "      <td>EMPRESA 12</td>\n",
       "      <td>CLIENTE 25</td>\n",
       "      <td>TVT - PRO - PRODUCAO OPEN</td>\n",
       "      <td>SCHEDULAGEM</td>\n",
       "      <td>2020-12-20 05:24:05</td>\n",
       "      <td>2021-03-14 16:00:58</td>\n",
       "      <td>1 - Crítico</td>\n",
       "      <td>Encerrado</td>\n",
       "      <td>True</td>\n",
       "      <td>INCIDENTES</td>\n",
       "      <td>NaN</td>\n",
       "      <td>INDISPONIBILIDADE</td>\n",
       "      <td>RESET DE SERVICO</td>\n",
       "      <td>84 days 10:36:53</td>\n",
       "      <td>2026.0</td>\n",
       "    </tr>\n",
       "    <tr>\n",
       "      <th>91188</th>\n",
       "      <td>INC20207364533</td>\n",
       "      <td>EMPRESA 12</td>\n",
       "      <td>CLIENTE 25</td>\n",
       "      <td>TVT - PRO - PRODUCAO OPEN</td>\n",
       "      <td>SCHEDULAGEM</td>\n",
       "      <td>2020-12-19 05:24:05</td>\n",
       "      <td>2021-03-14 16:00:56</td>\n",
       "      <td>1 - Crítico</td>\n",
       "      <td>Encerrado</td>\n",
       "      <td>True</td>\n",
       "      <td>INCIDENTES</td>\n",
       "      <td>NaN</td>\n",
       "      <td>INDISPONIBILIDADE</td>\n",
       "      <td>LIMPEZA DE DISCO</td>\n",
       "      <td>85 days 10:36:51</td>\n",
       "      <td>2050.0</td>\n",
       "    </tr>\n",
       "    <tr>\n",
       "      <th>91201</th>\n",
       "      <td>INC20207360728</td>\n",
       "      <td>EMPRESA 12</td>\n",
       "      <td>CLIENTE 37</td>\n",
       "      <td>TVT - EXTENDED SUPPORT TEAM SAP BASIS</td>\n",
       "      <td>SAP BASIS</td>\n",
       "      <td>2020-12-18 05:24:05</td>\n",
       "      <td>2021-03-11 14:54:58</td>\n",
       "      <td>1 - Crítico</td>\n",
       "      <td>Cancelado</td>\n",
       "      <td>True</td>\n",
       "      <td>INCIDENTES</td>\n",
       "      <td>NaN</td>\n",
       "      <td>INDISPONIBILIDADE</td>\n",
       "      <td>RESET DE SERVICO</td>\n",
       "      <td>83 days 09:30:53</td>\n",
       "      <td>2001.0</td>\n",
       "    </tr>\n",
       "    <tr>\n",
       "      <th>91341</th>\n",
       "      <td>INC20207260916</td>\n",
       "      <td>EMPRESA 12</td>\n",
       "      <td>CLIENTE 35</td>\n",
       "      <td>TVT - EXTENDED SUPPORT TEAM WINDOWS</td>\n",
       "      <td>WINDOWS</td>\n",
       "      <td>2020-11-15 11:41:05</td>\n",
       "      <td>2021-02-15 04:04:24</td>\n",
       "      <td>1 - Crítico</td>\n",
       "      <td>Encerrado</td>\n",
       "      <td>False</td>\n",
       "      <td>INCIDENTES</td>\n",
       "      <td>NaN</td>\n",
       "      <td>BANCO DE DADOS</td>\n",
       "      <td>APLICACAO DE PATCH</td>\n",
       "      <td>91 days 16:23:19</td>\n",
       "      <td>2200.0</td>\n",
       "    </tr>\n",
       "    <tr>\n",
       "      <th>91346</th>\n",
       "      <td>INC20207245622</td>\n",
       "      <td>EMPRESA 22</td>\n",
       "      <td>CLIENTE 32</td>\n",
       "      <td>TVT - EXTENDED SUPPORT TEAM UNIX</td>\n",
       "      <td>UNIX</td>\n",
       "      <td>2020-11-10 11:27:38</td>\n",
       "      <td>2021-02-07 22:04:30</td>\n",
       "      <td>1 - Crítico</td>\n",
       "      <td>Encerrado</td>\n",
       "      <td>True</td>\n",
       "      <td>INCIDENTES</td>\n",
       "      <td>NaN</td>\n",
       "      <td>BANCO DE DADOS</td>\n",
       "      <td>RESET DE SERVIDOR</td>\n",
       "      <td>89 days 10:36:52</td>\n",
       "      <td>2146.0</td>\n",
       "    </tr>\n",
       "    <tr>\n",
       "      <th>91349</th>\n",
       "      <td>INC20207236283</td>\n",
       "      <td>EMPRESA 32</td>\n",
       "      <td>CLIENTE 31</td>\n",
       "      <td>TVT - NOC - SUPPORTING SERVICES</td>\n",
       "      <td>NETWORK</td>\n",
       "      <td>2020-11-06 16:43:32</td>\n",
       "      <td>2021-02-18 09:01:00</td>\n",
       "      <td>1 - Crítico</td>\n",
       "      <td>Encerrado</td>\n",
       "      <td>False</td>\n",
       "      <td>INCIDENTES</td>\n",
       "      <td>NaN</td>\n",
       "      <td>BANCO DE DADOS</td>\n",
       "      <td>APLICACAO DE PATCH</td>\n",
       "      <td>103 days 16:17:28</td>\n",
       "      <td>2488.0</td>\n",
       "    </tr>\n",
       "    <tr>\n",
       "      <th>91357</th>\n",
       "      <td>INC20207224695</td>\n",
       "      <td>EMPRESA 30</td>\n",
       "      <td>CLIENTE 31</td>\n",
       "      <td>TVT - NOC - SUPPORTING SERVICES</td>\n",
       "      <td>NETWORK</td>\n",
       "      <td>2020-11-03 09:41:33</td>\n",
       "      <td>2021-02-15 14:02:23</td>\n",
       "      <td>1 - Crítico</td>\n",
       "      <td>Encerrado</td>\n",
       "      <td>False</td>\n",
       "      <td>INCIDENTES</td>\n",
       "      <td>NaN</td>\n",
       "      <td>PERFORMANCE</td>\n",
       "      <td>APLICACAO DE PATCH</td>\n",
       "      <td>104 days 04:20:50</td>\n",
       "      <td>2500.0</td>\n",
       "    </tr>\n",
       "    <tr>\n",
       "      <th>91358</th>\n",
       "      <td>INC20207213185</td>\n",
       "      <td>EMPRESA 34</td>\n",
       "      <td>CLIENTE 35</td>\n",
       "      <td>TVT - EXTENDED SUPPORT TEAM WINDOWS</td>\n",
       "      <td>WINDOWS</td>\n",
       "      <td>2020-10-29 08:26:06</td>\n",
       "      <td>2021-01-25 17:09:22</td>\n",
       "      <td>1 - Crítico</td>\n",
       "      <td>Encerrado</td>\n",
       "      <td>False</td>\n",
       "      <td>INCIDENTES</td>\n",
       "      <td>NaN</td>\n",
       "      <td>PERFORMANCE</td>\n",
       "      <td>QUERY DB</td>\n",
       "      <td>88 days 08:43:16</td>\n",
       "      <td>2120.0</td>\n",
       "    </tr>\n",
       "    <tr>\n",
       "      <th>91361</th>\n",
       "      <td>INC20207195531</td>\n",
       "      <td>EMPRESA 34</td>\n",
       "      <td>CLIENTE 35</td>\n",
       "      <td>TVT - EXTENDED SUPPORT TEAM WINDOWS</td>\n",
       "      <td>WINDOWS</td>\n",
       "      <td>2020-10-23 15:30:05</td>\n",
       "      <td>2021-01-25 17:09:49</td>\n",
       "      <td>1 - Crítico</td>\n",
       "      <td>Encerrado</td>\n",
       "      <td>True</td>\n",
       "      <td>INCIDENTES</td>\n",
       "      <td>NaN</td>\n",
       "      <td>INDISPONIBILIDADE</td>\n",
       "      <td>RESET DE SERVICO</td>\n",
       "      <td>94 days 01:39:44</td>\n",
       "      <td>2257.0</td>\n",
       "    </tr>\n",
       "    <tr>\n",
       "      <th>91363</th>\n",
       "      <td>INC20207184779</td>\n",
       "      <td>EMPRESA 21</td>\n",
       "      <td>CLIENTE 31</td>\n",
       "      <td>TVT - NOC - SUPPORTING SERVICES</td>\n",
       "      <td>NETWORK</td>\n",
       "      <td>2020-10-20 11:43:11</td>\n",
       "      <td>2021-01-23 11:04:43</td>\n",
       "      <td>1 - Crítico</td>\n",
       "      <td>Encerrado</td>\n",
       "      <td>False</td>\n",
       "      <td>INCIDENTES</td>\n",
       "      <td>NaN</td>\n",
       "      <td>INDISPONIBILIDADE</td>\n",
       "      <td>CHAMADO NO FORNECEDOR</td>\n",
       "      <td>94 days 23:21:32</td>\n",
       "      <td>2279.0</td>\n",
       "    </tr>\n",
       "    <tr>\n",
       "      <th>91364</th>\n",
       "      <td>INC20207184719</td>\n",
       "      <td>EMPRESA 21</td>\n",
       "      <td>CLIENTE 31</td>\n",
       "      <td>TVT - NOC - SUPPORTING SERVICES</td>\n",
       "      <td>NETWORK</td>\n",
       "      <td>2020-10-20 11:25:22</td>\n",
       "      <td>2021-01-23 11:04:59</td>\n",
       "      <td>1 - Crítico</td>\n",
       "      <td>Encerrado</td>\n",
       "      <td>False</td>\n",
       "      <td>INCIDENTES</td>\n",
       "      <td>NaN</td>\n",
       "      <td>INDISPONIBILIDADE</td>\n",
       "      <td>LIMPEZA DE DISCO</td>\n",
       "      <td>94 days 23:39:37</td>\n",
       "      <td>2279.0</td>\n",
       "    </tr>\n",
       "    <tr>\n",
       "      <th>91365</th>\n",
       "      <td>INC20207178148</td>\n",
       "      <td>EMPRESA 34</td>\n",
       "      <td>CLIENTE 35</td>\n",
       "      <td>TVT - EXTENDED SUPPORT TEAM WINDOWS</td>\n",
       "      <td>WINDOWS</td>\n",
       "      <td>2020-10-17 18:25:05</td>\n",
       "      <td>2021-01-25 17:09:35</td>\n",
       "      <td>1 - Crítico</td>\n",
       "      <td>Encerrado</td>\n",
       "      <td>False</td>\n",
       "      <td>INCIDENTES</td>\n",
       "      <td>NaN</td>\n",
       "      <td>PERFORMANCE</td>\n",
       "      <td>APLICACAO DE PATCH</td>\n",
       "      <td>99 days 22:44:30</td>\n",
       "      <td>2398.0</td>\n",
       "    </tr>\n",
       "    <tr>\n",
       "      <th>91368</th>\n",
       "      <td>INC20207161073</td>\n",
       "      <td>EMPRESA 32</td>\n",
       "      <td>CLIENTE 30</td>\n",
       "      <td>TVT - NOC - DETECTION SERVICES</td>\n",
       "      <td>NETWORK</td>\n",
       "      <td>2020-10-12 19:43:14</td>\n",
       "      <td>2021-01-08 09:00:59</td>\n",
       "      <td>1 - Crítico</td>\n",
       "      <td>Encerrado</td>\n",
       "      <td>False</td>\n",
       "      <td>INCIDENTES</td>\n",
       "      <td>NaN</td>\n",
       "      <td>PERFORMANCE</td>\n",
       "      <td>SEM ACAO</td>\n",
       "      <td>87 days 13:17:45</td>\n",
       "      <td>2101.0</td>\n",
       "    </tr>\n",
       "    <tr>\n",
       "      <th>91370</th>\n",
       "      <td>INC20207157668</td>\n",
       "      <td>EMPRESA 18</td>\n",
       "      <td>CLIENTE 31</td>\n",
       "      <td>TVT - NOC - SUPPORTING SERVICES</td>\n",
       "      <td>NETWORK</td>\n",
       "      <td>2020-10-11 01:03:46</td>\n",
       "      <td>2021-01-24 06:04:52</td>\n",
       "      <td>1 - Crítico</td>\n",
       "      <td>Encerrado</td>\n",
       "      <td>False</td>\n",
       "      <td>INCIDENTES</td>\n",
       "      <td>NaN</td>\n",
       "      <td>INDISPONIBILIDADE</td>\n",
       "      <td>RESET DE SERVIDOR</td>\n",
       "      <td>105 days 05:01:06</td>\n",
       "      <td>2525.0</td>\n",
       "    </tr>\n",
       "    <tr>\n",
       "      <th>91371</th>\n",
       "      <td>INC20207144105</td>\n",
       "      <td>EMPRESA 12</td>\n",
       "      <td>CLIENTE 31</td>\n",
       "      <td>TVT - NOC - SUPPORTING SERVICES</td>\n",
       "      <td>NETWORK</td>\n",
       "      <td>2020-10-06 11:07:06</td>\n",
       "      <td>2021-01-21 09:54:50</td>\n",
       "      <td>1 - Crítico</td>\n",
       "      <td>Cancelado</td>\n",
       "      <td>False</td>\n",
       "      <td>INCIDENTES</td>\n",
       "      <td>NaN</td>\n",
       "      <td>INDISPONIBILIDADE</td>\n",
       "      <td>CHAMADO NO FORNECEDOR</td>\n",
       "      <td>106 days 22:47:44</td>\n",
       "      <td>2566.0</td>\n",
       "    </tr>\n",
       "    <tr>\n",
       "      <th>91372</th>\n",
       "      <td>INC20207142081</td>\n",
       "      <td>EMPRESA 36</td>\n",
       "      <td>CLIENTE 35</td>\n",
       "      <td>TVT - EXTENDED SUPPORT TEAM WINDOWS</td>\n",
       "      <td>WINDOWS</td>\n",
       "      <td>2020-10-05 16:43:10</td>\n",
       "      <td>2021-01-14 09:02:33</td>\n",
       "      <td>1 - Crítico</td>\n",
       "      <td>Encerrado</td>\n",
       "      <td>True</td>\n",
       "      <td>INCIDENTES</td>\n",
       "      <td>NaN</td>\n",
       "      <td>INDISPONIBILIDADE</td>\n",
       "      <td>LIMPEZA DE DISCO</td>\n",
       "      <td>100 days 16:19:23</td>\n",
       "      <td>2416.0</td>\n",
       "    </tr>\n",
       "    <tr>\n",
       "      <th>91373</th>\n",
       "      <td>INC20207142080</td>\n",
       "      <td>EMPRESA 36</td>\n",
       "      <td>CLIENTE 35</td>\n",
       "      <td>TVT - EXTENDED SUPPORT TEAM WINDOWS</td>\n",
       "      <td>WINDOWS</td>\n",
       "      <td>2020-10-05 16:43:03</td>\n",
       "      <td>2021-01-14 09:02:20</td>\n",
       "      <td>1 - Crítico</td>\n",
       "      <td>Encerrado</td>\n",
       "      <td>True</td>\n",
       "      <td>INCIDENTES</td>\n",
       "      <td>NaN</td>\n",
       "      <td>BANCO DE DADOS</td>\n",
       "      <td>APLICACAO DE PATCH</td>\n",
       "      <td>100 days 16:19:17</td>\n",
       "      <td>2416.0</td>\n",
       "    </tr>\n",
       "    <tr>\n",
       "      <th>91374</th>\n",
       "      <td>INC20207119605</td>\n",
       "      <td>EMPRESA 35</td>\n",
       "      <td>CLIENTE 31</td>\n",
       "      <td>TVT - NOC - SUPPORTING SERVICES</td>\n",
       "      <td>NETWORK</td>\n",
       "      <td>2020-09-28 09:10:47</td>\n",
       "      <td>2021-02-11 19:44:35</td>\n",
       "      <td>1 - Crítico</td>\n",
       "      <td>Cancelado</td>\n",
       "      <td>False</td>\n",
       "      <td>INCIDENTES</td>\n",
       "      <td>NaN</td>\n",
       "      <td>INDISPONIBILIDADE</td>\n",
       "      <td>QUERY DB</td>\n",
       "      <td>136 days 10:33:48</td>\n",
       "      <td>3274.0</td>\n",
       "    </tr>\n",
       "    <tr>\n",
       "      <th>91375</th>\n",
       "      <td>INC20207102307</td>\n",
       "      <td>EMPRESA 32</td>\n",
       "      <td>CLIENTE 30</td>\n",
       "      <td>TVT - NOC - DETECTION SERVICES</td>\n",
       "      <td>NETWORK</td>\n",
       "      <td>2020-09-21 18:29:21</td>\n",
       "      <td>2021-01-08 09:01:01</td>\n",
       "      <td>1 - Crítico</td>\n",
       "      <td>Encerrado</td>\n",
       "      <td>False</td>\n",
       "      <td>INCIDENTES</td>\n",
       "      <td>NaN</td>\n",
       "      <td>INDISPONIBILIDADE</td>\n",
       "      <td>REFRESH IIS</td>\n",
       "      <td>108 days 14:31:40</td>\n",
       "      <td>2606.0</td>\n",
       "    </tr>\n",
       "    <tr>\n",
       "      <th>91376</th>\n",
       "      <td>INC20207097506</td>\n",
       "      <td>EMPRESA 12</td>\n",
       "      <td>CLIENTE 22</td>\n",
       "      <td>TVT - SO CLOUD SERVICE</td>\n",
       "      <td>WINDOWS</td>\n",
       "      <td>2020-09-19 11:51:38</td>\n",
       "      <td>2021-02-14 09:04:14</td>\n",
       "      <td>1 - Crítico</td>\n",
       "      <td>Encerrado</td>\n",
       "      <td>False</td>\n",
       "      <td>INCIDENTES</td>\n",
       "      <td>NaN</td>\n",
       "      <td>INDISPONIBILIDADE</td>\n",
       "      <td>SEM ACAO</td>\n",
       "      <td>147 days 21:12:36</td>\n",
       "      <td>3549.0</td>\n",
       "    </tr>\n",
       "    <tr>\n",
       "      <th>91377</th>\n",
       "      <td>INC20207097354</td>\n",
       "      <td>EMPRESA 12</td>\n",
       "      <td>CLIENTE 35</td>\n",
       "      <td>TVT - EXTENDED SUPPORT TEAM WINDOWS</td>\n",
       "      <td>WINDOWS</td>\n",
       "      <td>2020-09-19 09:11:05</td>\n",
       "      <td>2021-02-14 12:04:06</td>\n",
       "      <td>1 - Crítico</td>\n",
       "      <td>Encerrado</td>\n",
       "      <td>False</td>\n",
       "      <td>INCIDENTES</td>\n",
       "      <td>NaN</td>\n",
       "      <td>INDISPONIBILIDADE</td>\n",
       "      <td>RESET DE SERVICO</td>\n",
       "      <td>148 days 02:53:01</td>\n",
       "      <td>3554.0</td>\n",
       "    </tr>\n",
       "    <tr>\n",
       "      <th>91378</th>\n",
       "      <td>INC20207042594</td>\n",
       "      <td>EMPRESA 30</td>\n",
       "      <td>CLIENTE 31</td>\n",
       "      <td>TVT - NOC - SUPPORTING SERVICES</td>\n",
       "      <td>NETWORK</td>\n",
       "      <td>2020-08-31 17:09:21</td>\n",
       "      <td>2021-01-23 12:04:12</td>\n",
       "      <td>1 - Crítico</td>\n",
       "      <td>Encerrado</td>\n",
       "      <td>False</td>\n",
       "      <td>INCIDENTES</td>\n",
       "      <td>NaN</td>\n",
       "      <td>INDISPONIBILIDADE</td>\n",
       "      <td>RESET DE SERVIDOR</td>\n",
       "      <td>144 days 18:54:51</td>\n",
       "      <td>3474.0</td>\n",
       "    </tr>\n",
       "    <tr>\n",
       "      <th>91383</th>\n",
       "      <td>INC20206878237</td>\n",
       "      <td>EMPRESA 14</td>\n",
       "      <td>CLIENTE 36</td>\n",
       "      <td>TVT - EXTENDED SUPPORT TEAM DATABASE</td>\n",
       "      <td>DATABASE</td>\n",
       "      <td>2020-06-30 12:39:09</td>\n",
       "      <td>2021-03-01 06:00:26</td>\n",
       "      <td>1 - Crítico</td>\n",
       "      <td>Encerrado</td>\n",
       "      <td>False</td>\n",
       "      <td>INCIDENTES</td>\n",
       "      <td>NaN</td>\n",
       "      <td>INDISPONIBILIDADE</td>\n",
       "      <td>REFRESH IIS</td>\n",
       "      <td>243 days 17:21:17</td>\n",
       "      <td>5849.0</td>\n",
       "    </tr>\n",
       "    <tr>\n",
       "      <th>91386</th>\n",
       "      <td>INC20200272357</td>\n",
       "      <td>EMPRESA 12</td>\n",
       "      <td>CLIENTE 31</td>\n",
       "      <td>TVT - DATA PROTECTION OPERATION</td>\n",
       "      <td>BACKUP</td>\n",
       "      <td>2020-01-22 21:10:13</td>\n",
       "      <td>2021-02-14 16:05:17</td>\n",
       "      <td>1 - Crítico</td>\n",
       "      <td>Encerrado</td>\n",
       "      <td>True</td>\n",
       "      <td>INCIDENTES</td>\n",
       "      <td>NaN</td>\n",
       "      <td>INDISPONIBILIDADE</td>\n",
       "      <td>RESET DE SERVIDOR</td>\n",
       "      <td>388 days 18:55:04</td>\n",
       "      <td>9330.0</td>\n",
       "    </tr>\n",
       "    <tr>\n",
       "      <th>91395</th>\n",
       "      <td>INC20190652446</td>\n",
       "      <td>EMPRESA 12</td>\n",
       "      <td>CLIENTE 19</td>\n",
       "      <td>TVT - DPS - ARCHIVE</td>\n",
       "      <td>BACKUP</td>\n",
       "      <td>2019-08-28 13:47:21</td>\n",
       "      <td>2021-02-14 18:04:29</td>\n",
       "      <td>1 - Crítico</td>\n",
       "      <td>Encerrado</td>\n",
       "      <td>True</td>\n",
       "      <td>INCIDENTES</td>\n",
       "      <td>NaN</td>\n",
       "      <td>INDISPONIBILIDADE</td>\n",
       "      <td>CHAMADO NO FORNECEDOR</td>\n",
       "      <td>536 days 04:17:08</td>\n",
       "      <td>12868.0</td>\n",
       "    </tr>\n",
       "  </tbody>\n",
       "</table>\n",
       "</div>"
      ],
      "text/plain": [
       "               número     empresa     cliente  \\\n",
       "91170  INC20207368253  EMPRESA 12  CLIENTE 25   \n",
       "91177  INC20207366584  EMPRESA 12  CLIENTE 25   \n",
       "91188  INC20207364533  EMPRESA 12  CLIENTE 25   \n",
       "91201  INC20207360728  EMPRESA 12  CLIENTE 37   \n",
       "91341  INC20207260916  EMPRESA 12  CLIENTE 35   \n",
       "91346  INC20207245622  EMPRESA 22  CLIENTE 32   \n",
       "91349  INC20207236283  EMPRESA 32  CLIENTE 31   \n",
       "91357  INC20207224695  EMPRESA 30  CLIENTE 31   \n",
       "91358  INC20207213185  EMPRESA 34  CLIENTE 35   \n",
       "91361  INC20207195531  EMPRESA 34  CLIENTE 35   \n",
       "91363  INC20207184779  EMPRESA 21  CLIENTE 31   \n",
       "91364  INC20207184719  EMPRESA 21  CLIENTE 31   \n",
       "91365  INC20207178148  EMPRESA 34  CLIENTE 35   \n",
       "91368  INC20207161073  EMPRESA 32  CLIENTE 30   \n",
       "91370  INC20207157668  EMPRESA 18  CLIENTE 31   \n",
       "91371  INC20207144105  EMPRESA 12  CLIENTE 31   \n",
       "91372  INC20207142081  EMPRESA 36  CLIENTE 35   \n",
       "91373  INC20207142080  EMPRESA 36  CLIENTE 35   \n",
       "91374  INC20207119605  EMPRESA 35  CLIENTE 31   \n",
       "91375  INC20207102307  EMPRESA 32  CLIENTE 30   \n",
       "91376  INC20207097506  EMPRESA 12  CLIENTE 22   \n",
       "91377  INC20207097354  EMPRESA 12  CLIENTE 35   \n",
       "91378  INC20207042594  EMPRESA 30  CLIENTE 31   \n",
       "91383  INC20206878237  EMPRESA 14  CLIENTE 36   \n",
       "91386  INC20200272357  EMPRESA 12  CLIENTE 31   \n",
       "91395  INC20190652446  EMPRESA 12  CLIENTE 19   \n",
       "\n",
       "                             grupo_designado         time              aberto  \\\n",
       "91170              TVT - PRO - PRODUCAO OPEN  SCHEDULAGEM 2020-12-21 05:24:05   \n",
       "91177              TVT - PRO - PRODUCAO OPEN  SCHEDULAGEM 2020-12-20 05:24:05   \n",
       "91188              TVT - PRO - PRODUCAO OPEN  SCHEDULAGEM 2020-12-19 05:24:05   \n",
       "91201  TVT - EXTENDED SUPPORT TEAM SAP BASIS    SAP BASIS 2020-12-18 05:24:05   \n",
       "91341    TVT - EXTENDED SUPPORT TEAM WINDOWS      WINDOWS 2020-11-15 11:41:05   \n",
       "91346       TVT - EXTENDED SUPPORT TEAM UNIX         UNIX 2020-11-10 11:27:38   \n",
       "91349        TVT - NOC - SUPPORTING SERVICES      NETWORK 2020-11-06 16:43:32   \n",
       "91357        TVT - NOC - SUPPORTING SERVICES      NETWORK 2020-11-03 09:41:33   \n",
       "91358    TVT - EXTENDED SUPPORT TEAM WINDOWS      WINDOWS 2020-10-29 08:26:06   \n",
       "91361    TVT - EXTENDED SUPPORT TEAM WINDOWS      WINDOWS 2020-10-23 15:30:05   \n",
       "91363        TVT - NOC - SUPPORTING SERVICES      NETWORK 2020-10-20 11:43:11   \n",
       "91364        TVT - NOC - SUPPORTING SERVICES      NETWORK 2020-10-20 11:25:22   \n",
       "91365    TVT - EXTENDED SUPPORT TEAM WINDOWS      WINDOWS 2020-10-17 18:25:05   \n",
       "91368         TVT - NOC - DETECTION SERVICES      NETWORK 2020-10-12 19:43:14   \n",
       "91370        TVT - NOC - SUPPORTING SERVICES      NETWORK 2020-10-11 01:03:46   \n",
       "91371        TVT - NOC - SUPPORTING SERVICES      NETWORK 2020-10-06 11:07:06   \n",
       "91372    TVT - EXTENDED SUPPORT TEAM WINDOWS      WINDOWS 2020-10-05 16:43:10   \n",
       "91373    TVT - EXTENDED SUPPORT TEAM WINDOWS      WINDOWS 2020-10-05 16:43:03   \n",
       "91374        TVT - NOC - SUPPORTING SERVICES      NETWORK 2020-09-28 09:10:47   \n",
       "91375         TVT - NOC - DETECTION SERVICES      NETWORK 2020-09-21 18:29:21   \n",
       "91376                 TVT - SO CLOUD SERVICE      WINDOWS 2020-09-19 11:51:38   \n",
       "91377    TVT - EXTENDED SUPPORT TEAM WINDOWS      WINDOWS 2020-09-19 09:11:05   \n",
       "91378        TVT - NOC - SUPPORTING SERVICES      NETWORK 2020-08-31 17:09:21   \n",
       "91383   TVT - EXTENDED SUPPORT TEAM DATABASE     DATABASE 2020-06-30 12:39:09   \n",
       "91386        TVT - DATA PROTECTION OPERATION       BACKUP 2020-01-22 21:10:13   \n",
       "91395                    TVT - DPS - ARCHIVE       BACKUP 2019-08-28 13:47:21   \n",
       "\n",
       "                encerrado   prioridade     estado  foi_violado tipo_registro  \\\n",
       "91170 2021-03-14 16:00:43  1 - Crítico  Encerrado         True    INCIDENTES   \n",
       "91177 2021-03-14 16:00:58  1 - Crítico  Encerrado         True    INCIDENTES   \n",
       "91188 2021-03-14 16:00:56  1 - Crítico  Encerrado         True    INCIDENTES   \n",
       "91201 2021-03-11 14:54:58  1 - Crítico  Cancelado         True    INCIDENTES   \n",
       "91341 2021-02-15 04:04:24  1 - Crítico  Encerrado        False    INCIDENTES   \n",
       "91346 2021-02-07 22:04:30  1 - Crítico  Encerrado         True    INCIDENTES   \n",
       "91349 2021-02-18 09:01:00  1 - Crítico  Encerrado        False    INCIDENTES   \n",
       "91357 2021-02-15 14:02:23  1 - Crítico  Encerrado        False    INCIDENTES   \n",
       "91358 2021-01-25 17:09:22  1 - Crítico  Encerrado        False    INCIDENTES   \n",
       "91361 2021-01-25 17:09:49  1 - Crítico  Encerrado         True    INCIDENTES   \n",
       "91363 2021-01-23 11:04:43  1 - Crítico  Encerrado        False    INCIDENTES   \n",
       "91364 2021-01-23 11:04:59  1 - Crítico  Encerrado        False    INCIDENTES   \n",
       "91365 2021-01-25 17:09:35  1 - Crítico  Encerrado        False    INCIDENTES   \n",
       "91368 2021-01-08 09:00:59  1 - Crítico  Encerrado        False    INCIDENTES   \n",
       "91370 2021-01-24 06:04:52  1 - Crítico  Encerrado        False    INCIDENTES   \n",
       "91371 2021-01-21 09:54:50  1 - Crítico  Cancelado        False    INCIDENTES   \n",
       "91372 2021-01-14 09:02:33  1 - Crítico  Encerrado         True    INCIDENTES   \n",
       "91373 2021-01-14 09:02:20  1 - Crítico  Encerrado         True    INCIDENTES   \n",
       "91374 2021-02-11 19:44:35  1 - Crítico  Cancelado        False    INCIDENTES   \n",
       "91375 2021-01-08 09:01:01  1 - Crítico  Encerrado        False    INCIDENTES   \n",
       "91376 2021-02-14 09:04:14  1 - Crítico  Encerrado        False    INCIDENTES   \n",
       "91377 2021-02-14 12:04:06  1 - Crítico  Encerrado        False    INCIDENTES   \n",
       "91378 2021-01-23 12:04:12  1 - Crítico  Encerrado        False    INCIDENTES   \n",
       "91383 2021-03-01 06:00:26  1 - Crítico  Encerrado        False    INCIDENTES   \n",
       "91386 2021-02-14 16:05:17  1 - Crítico  Encerrado         True    INCIDENTES   \n",
       "91395 2021-02-14 18:04:29  1 - Crítico  Encerrado         True    INCIDENTES   \n",
       "\n",
       "      id_incidente              categ                   acao  \\\n",
       "91170          NaN  INDISPONIBILIDADE      RESET DE SERVIDOR   \n",
       "91177          NaN  INDISPONIBILIDADE       RESET DE SERVICO   \n",
       "91188          NaN  INDISPONIBILIDADE       LIMPEZA DE DISCO   \n",
       "91201          NaN  INDISPONIBILIDADE       RESET DE SERVICO   \n",
       "91341          NaN     BANCO DE DADOS     APLICACAO DE PATCH   \n",
       "91346          NaN     BANCO DE DADOS      RESET DE SERVIDOR   \n",
       "91349          NaN     BANCO DE DADOS     APLICACAO DE PATCH   \n",
       "91357          NaN        PERFORMANCE     APLICACAO DE PATCH   \n",
       "91358          NaN        PERFORMANCE               QUERY DB   \n",
       "91361          NaN  INDISPONIBILIDADE       RESET DE SERVICO   \n",
       "91363          NaN  INDISPONIBILIDADE  CHAMADO NO FORNECEDOR   \n",
       "91364          NaN  INDISPONIBILIDADE       LIMPEZA DE DISCO   \n",
       "91365          NaN        PERFORMANCE     APLICACAO DE PATCH   \n",
       "91368          NaN        PERFORMANCE               SEM ACAO   \n",
       "91370          NaN  INDISPONIBILIDADE      RESET DE SERVIDOR   \n",
       "91371          NaN  INDISPONIBILIDADE  CHAMADO NO FORNECEDOR   \n",
       "91372          NaN  INDISPONIBILIDADE       LIMPEZA DE DISCO   \n",
       "91373          NaN     BANCO DE DADOS     APLICACAO DE PATCH   \n",
       "91374          NaN  INDISPONIBILIDADE               QUERY DB   \n",
       "91375          NaN  INDISPONIBILIDADE            REFRESH IIS   \n",
       "91376          NaN  INDISPONIBILIDADE               SEM ACAO   \n",
       "91377          NaN  INDISPONIBILIDADE       RESET DE SERVICO   \n",
       "91378          NaN  INDISPONIBILIDADE      RESET DE SERVIDOR   \n",
       "91383          NaN  INDISPONIBILIDADE            REFRESH IIS   \n",
       "91386          NaN  INDISPONIBILIDADE      RESET DE SERVIDOR   \n",
       "91395          NaN  INDISPONIBILIDADE  CHAMADO NO FORNECEDOR   \n",
       "\n",
       "                    dif  dif_hours  \n",
       "91170  83 days 10:36:38     2002.0  \n",
       "91177  84 days 10:36:53     2026.0  \n",
       "91188  85 days 10:36:51     2050.0  \n",
       "91201  83 days 09:30:53     2001.0  \n",
       "91341  91 days 16:23:19     2200.0  \n",
       "91346  89 days 10:36:52     2146.0  \n",
       "91349 103 days 16:17:28     2488.0  \n",
       "91357 104 days 04:20:50     2500.0  \n",
       "91358  88 days 08:43:16     2120.0  \n",
       "91361  94 days 01:39:44     2257.0  \n",
       "91363  94 days 23:21:32     2279.0  \n",
       "91364  94 days 23:39:37     2279.0  \n",
       "91365  99 days 22:44:30     2398.0  \n",
       "91368  87 days 13:17:45     2101.0  \n",
       "91370 105 days 05:01:06     2525.0  \n",
       "91371 106 days 22:47:44     2566.0  \n",
       "91372 100 days 16:19:23     2416.0  \n",
       "91373 100 days 16:19:17     2416.0  \n",
       "91374 136 days 10:33:48     3274.0  \n",
       "91375 108 days 14:31:40     2606.0  \n",
       "91376 147 days 21:12:36     3549.0  \n",
       "91377 148 days 02:53:01     3554.0  \n",
       "91378 144 days 18:54:51     3474.0  \n",
       "91383 243 days 17:21:17     5849.0  \n",
       "91386 388 days 18:55:04     9330.0  \n",
       "91395 536 days 04:17:08    12868.0  "
      ]
     },
     "execution_count": 240,
     "metadata": {},
     "output_type": "execute_result"
    }
   ],
   "source": [
    "df[(df['dif_hours']>2000) & (df['prioridade']=='1 - Crítico')]"
   ]
  },
  {
   "cell_type": "code",
   "execution_count": 22,
   "metadata": {
    "ExecuteTime": {
     "end_time": "2021-03-28T14:37:36.902760Z",
     "start_time": "2021-03-28T14:37:34.989496Z"
    }
   },
   "outputs": [
    {
     "data": {
      "image/png": "[encoded data removed]",
      "text/plain": [
       "<Figure size 1800x576 with 1 Axes>"
      ]
     },
     "metadata": {},
     "output_type": "display_data"
    }
   ],
   "source": [
    "sns.set(rc={'figure.figsize':(25,8)})\n",
    "\n",
    "#Definindo o boxplot por times:\n",
    "sns.boxplot(y='dif_hours',\n",
    "            x='time',\n",
    "           data=df,\n",
    "           width=0.5);"
   ]
  },
  {
   "cell_type": "markdown",
   "metadata": {
    "heading_collapsed": true
   },
   "source": [
    "# Média por time"
   ]
  },
  {
   "cell_type": "code",
   "execution_count": 126,
   "metadata": {
    "ExecuteTime": {
     "end_time": "2021-03-28T17:18:03.443334Z",
     "start_time": "2021-03-28T17:18:03.419612Z"
    },
    "hidden": true
   },
   "outputs": [],
   "source": [
    "# Separar por nivel de prioridade para saber uma média por time"
   ]
  },
  {
   "cell_type": "code",
   "execution_count": 134,
   "metadata": {
    "ExecuteTime": {
     "end_time": "2021-03-28T17:23:54.395149Z",
     "start_time": "2021-03-28T17:23:54.202145Z"
    },
    "hidden": true
   },
   "outputs": [],
   "source": [
    "critico=df[df['prioridade']=='1 - Crítico']['dif_hours']\n",
    "alto=df[df['prioridade']=='2 - Alto']['dif_hours']\n",
    "moderado=df[df['prioridade']=='3 - Moderado']['dif_hours']\n",
    "baixo=df[df['prioridade']=='4 - Baixo']['dif_hours']"
   ]
  },
  {
   "cell_type": "code",
   "execution_count": 48,
   "metadata": {
    "ExecuteTime": {
     "end_time": "2021-03-28T15:09:21.387766Z",
     "start_time": "2021-03-28T15:09:21.162004Z"
    },
    "hidden": true,
    "scrolled": true
   },
   "outputs": [
    {
     "name": "stdout",
     "output_type": "stream",
     "text": [
      "\n",
      "1 - Crítico\n",
      "count    28399.000000\n",
      "mean        84.725871\n",
      "std        137.331893\n",
      "min          0.000000\n",
      "25%         73.000000\n",
      "50%         73.000000\n",
      "75%         76.000000\n",
      "max      12868.000000\n",
      "Name: dif_hours, dtype: float64\n",
      "\n",
      "4 - Baixo\n",
      "count    40076.000000\n",
      "mean        83.533786\n",
      "std        145.036583\n",
      "min          0.000000\n",
      "25%         72.000000\n",
      "50%         73.000000\n",
      "75%         75.000000\n",
      "max      13089.000000\n",
      "Name: dif_hours, dtype: float64\n",
      "\n",
      "2 - Alto\n",
      "count    29529.000000\n",
      "mean        97.469471\n",
      "std         92.712041\n",
      "min          0.000000\n",
      "25%         73.000000\n",
      "50%         77.000000\n",
      "75%        104.000000\n",
      "max       9786.000000\n",
      "Name: dif_hours, dtype: float64\n",
      "\n",
      "3 - Moderado\n",
      "count    23392.000000\n",
      "mean        87.802668\n",
      "std        144.134814\n",
      "min          0.000000\n",
      "25%         73.000000\n",
      "50%         75.000000\n",
      "75%         80.000000\n",
      "max      10006.000000\n",
      "Name: dif_hours, dtype: float64\n"
     ]
    }
   ],
   "source": [
    "for i in list(df['prioridade'].unique()):\n",
    "    print(\"\")\n",
    "    print(i)\n",
    "    print(df[df['prioridade']==i]['dif_hours'].describe())"
   ]
  },
  {
   "cell_type": "code",
   "execution_count": 128,
   "metadata": {
    "ExecuteTime": {
     "end_time": "2021-03-28T17:20:41.426266Z",
     "start_time": "2021-03-28T17:20:41.418798Z"
    },
    "hidden": true
   },
   "outputs": [],
   "source": [
    "# Removing outliers"
   ]
  },
  {
   "cell_type": "code",
   "execution_count": 111,
   "metadata": {
    "ExecuteTime": {
     "end_time": "2021-03-28T17:07:25.762956Z",
     "start_time": "2021-03-28T17:07:25.665277Z"
    },
    "hidden": true
   },
   "outputs": [
    {
     "name": "stdout",
     "output_type": "stream",
     "text": [
      "73.0\n",
      "79.0\n",
      "6.0\n",
      "64.0 88.0\n"
     ]
    }
   ],
   "source": [
    "Q1=df['dif_hours'].quantile(0.25)\n",
    "Q3=df['dif_hours'].quantile(0.75)\n",
    "IQR=Q3-Q1\n",
    "print(Q1)\n",
    "print(Q3)\n",
    "print(IQR)\n",
    "Lower_Whisker = Q1-1.5*IQR\n",
    "Upper_Whisker = Q3+1.5*IQR\n",
    "print(Lower_Whisker, Upper_Whisker)"
   ]
  },
  {
   "cell_type": "code",
   "execution_count": 120,
   "metadata": {
    "ExecuteTime": {
     "end_time": "2021-03-28T17:09:07.409301Z",
     "start_time": "2021-03-28T17:09:07.341406Z"
    },
    "hidden": true
   },
   "outputs": [],
   "source": [
    "index_of_outliers_max = df[df['dif_hours'] > Upper_Whisker].index"
   ]
  },
  {
   "cell_type": "code",
   "execution_count": 115,
   "metadata": {
    "ExecuteTime": {
     "end_time": "2021-03-28T17:07:51.451120Z",
     "start_time": "2021-03-28T17:07:51.427365Z"
    },
    "hidden": true
   },
   "outputs": [],
   "source": [
    "index_of_outliers_min=df[df['dif_hours']< Lower_Whisker].index"
   ]
  },
  {
   "cell_type": "code",
   "execution_count": 123,
   "metadata": {
    "ExecuteTime": {
     "end_time": "2021-03-28T17:09:46.577327Z",
     "start_time": "2021-03-28T17:09:46.436492Z"
    },
    "hidden": true
   },
   "outputs": [],
   "source": [
    "df = df.drop(list(index_of_outliers_min)+list(index_of_outliers_max))"
   ]
  },
  {
   "cell_type": "code",
   "execution_count": null,
   "metadata": {
    "hidden": true
   },
   "outputs": [],
   "source": [
    "# reseting the index"
   ]
  },
  {
   "cell_type": "code",
   "execution_count": 125,
   "metadata": {
    "ExecuteTime": {
     "end_time": "2021-03-28T17:10:47.636983Z",
     "start_time": "2021-03-28T17:10:47.539093Z"
    },
    "collapsed": true,
    "hidden": true
   },
   "outputs": [
    {
     "data": {
      "text/html": [
       "<div>\n",
       "<style scoped>\n",
       "    .dataframe tbody tr th:only-of-type {\n",
       "        vertical-align: middle;\n",
       "    }\n",
       "\n",
       "    .dataframe tbody tr th {\n",
       "        vertical-align: top;\n",
       "    }\n",
       "\n",
       "    .dataframe thead th {\n",
       "        text-align: right;\n",
       "    }\n",
       "</style>\n",
       "<table border=\"1\" class=\"dataframe\">\n",
       "  <thead>\n",
       "    <tr style=\"text-align: right;\">\n",
       "      <th></th>\n",
       "      <th>número</th>\n",
       "      <th>empresa</th>\n",
       "      <th>cliente</th>\n",
       "      <th>grupo_designado</th>\n",
       "      <th>time</th>\n",
       "      <th>aberto</th>\n",
       "      <th>encerrado</th>\n",
       "      <th>prioridade</th>\n",
       "      <th>estado</th>\n",
       "      <th>foi_violado</th>\n",
       "      <th>tipo_registro</th>\n",
       "      <th>id_incidente</th>\n",
       "      <th>categ</th>\n",
       "      <th>acao</th>\n",
       "      <th>dif</th>\n",
       "      <th>dif_hours</th>\n",
       "    </tr>\n",
       "  </thead>\n",
       "  <tbody>\n",
       "    <tr>\n",
       "      <th>0</th>\n",
       "      <td>INC20210266479</td>\n",
       "      <td>EMPRESA 5</td>\n",
       "      <td>CLIENTE 25</td>\n",
       "      <td>TVT - PRO - PRODUCAO OPEN</td>\n",
       "      <td>SCHEDULAGEM</td>\n",
       "      <td>2021-03-18 22:20:20</td>\n",
       "      <td>2021-03-21 23:00:06</td>\n",
       "      <td>2 - Alto</td>\n",
       "      <td>Encerrado</td>\n",
       "      <td>False</td>\n",
       "      <td>INCIDENTES</td>\n",
       "      <td>NaN</td>\n",
       "      <td>OCUPACAO DE ESPACO</td>\n",
       "      <td>RESET DE SERVICO</td>\n",
       "      <td>3 days 00:39:46</td>\n",
       "      <td>72.0</td>\n",
       "    </tr>\n",
       "    <tr>\n",
       "      <th>1</th>\n",
       "      <td>INC20210266459</td>\n",
       "      <td>EMPRESA 36</td>\n",
       "      <td>CLIENTE 38</td>\n",
       "      <td>TVT - COMMAND CENTER PAYMENTS BUSINESS</td>\n",
       "      <td>MAINFRAME</td>\n",
       "      <td>2021-03-18 22:11:22</td>\n",
       "      <td>2021-03-21 23:01:35</td>\n",
       "      <td>2 - Alto</td>\n",
       "      <td>Encerrado</td>\n",
       "      <td>False</td>\n",
       "      <td>INCIDENTES</td>\n",
       "      <td>NaN</td>\n",
       "      <td>OCUPACAO DE ESPACO</td>\n",
       "      <td>RESET DE SERVIDOR</td>\n",
       "      <td>3 days 00:50:13</td>\n",
       "      <td>72.0</td>\n",
       "    </tr>\n",
       "    <tr>\n",
       "      <th>2</th>\n",
       "      <td>INC20210266455</td>\n",
       "      <td>EMPRESA 36</td>\n",
       "      <td>CLIENTE 25</td>\n",
       "      <td>TVT - PRO - PRODUCAO OPEN</td>\n",
       "      <td>SCHEDULAGEM</td>\n",
       "      <td>2021-03-18 22:09:05</td>\n",
       "      <td>2021-03-21 23:01:33</td>\n",
       "      <td>1 - Crítico</td>\n",
       "      <td>Encerrado</td>\n",
       "      <td>False</td>\n",
       "      <td>INCIDENTES</td>\n",
       "      <td>NaN</td>\n",
       "      <td>OCUPACAO DE ESPACO</td>\n",
       "      <td>CHAMADO NO FORNECEDOR</td>\n",
       "      <td>3 days 00:52:28</td>\n",
       "      <td>72.0</td>\n",
       "    </tr>\n",
       "    <tr>\n",
       "      <th>3</th>\n",
       "      <td>INC20210266451</td>\n",
       "      <td>EMPRESA 12</td>\n",
       "      <td>CLIENTE 31</td>\n",
       "      <td>TVT - NOC - SUPPORTING SERVICES</td>\n",
       "      <td>NETWORK</td>\n",
       "      <td>2021-03-18 22:05:15</td>\n",
       "      <td>2021-03-21 23:04:22</td>\n",
       "      <td>1 - Crítico</td>\n",
       "      <td>Encerrado</td>\n",
       "      <td>False</td>\n",
       "      <td>INCIDENTES</td>\n",
       "      <td>NaN</td>\n",
       "      <td>OCUPACAO DE ESPACO</td>\n",
       "      <td>LIMPEZA DE DISCO</td>\n",
       "      <td>3 days 00:59:07</td>\n",
       "      <td>72.0</td>\n",
       "    </tr>\n",
       "    <tr>\n",
       "      <th>4</th>\n",
       "      <td>INC20210266450</td>\n",
       "      <td>EMPRESA 36</td>\n",
       "      <td>CLIENTE 25</td>\n",
       "      <td>TVT - PRO - PRODUCAO OPEN</td>\n",
       "      <td>SCHEDULAGEM</td>\n",
       "      <td>2021-03-18 22:04:20</td>\n",
       "      <td>2021-03-21 23:01:27</td>\n",
       "      <td>3 - Moderado</td>\n",
       "      <td>Encerrado</td>\n",
       "      <td>False</td>\n",
       "      <td>INCIDENTES</td>\n",
       "      <td>NaN</td>\n",
       "      <td>OCUPACAO DE ESPACO</td>\n",
       "      <td>APLICACAO DE PATCH</td>\n",
       "      <td>3 days 00:57:07</td>\n",
       "      <td>72.0</td>\n",
       "    </tr>\n",
       "    <tr>\n",
       "      <th>...</th>\n",
       "      <td>...</td>\n",
       "      <td>...</td>\n",
       "      <td>...</td>\n",
       "      <td>...</td>\n",
       "      <td>...</td>\n",
       "      <td>...</td>\n",
       "      <td>...</td>\n",
       "      <td>...</td>\n",
       "      <td>...</td>\n",
       "      <td>...</td>\n",
       "      <td>...</td>\n",
       "      <td>...</td>\n",
       "      <td>...</td>\n",
       "      <td>...</td>\n",
       "      <td>...</td>\n",
       "      <td>...</td>\n",
       "    </tr>\n",
       "    <tr>\n",
       "      <th>97832</th>\n",
       "      <td>60174504A95E4B11682ECC63</td>\n",
       "      <td>EMPRESA 4</td>\n",
       "      <td>CLIENTE 10</td>\n",
       "      <td>TVT - PRO - PRODUCAO OPEN</td>\n",
       "      <td>SCHEDULAGEM</td>\n",
       "      <td>2021-03-11 21:42:49</td>\n",
       "      <td>2021-03-15 00:01:58</td>\n",
       "      <td>3 - Moderado</td>\n",
       "      <td>Encerrado</td>\n",
       "      <td>False</td>\n",
       "      <td>EVENTOS</td>\n",
       "      <td>[]</td>\n",
       "      <td>PERFORMANCE</td>\n",
       "      <td>APLICACAO DE PATCH</td>\n",
       "      <td>3 days 02:19:09</td>\n",
       "      <td>74.0</td>\n",
       "    </tr>\n",
       "    <tr>\n",
       "      <th>97833</th>\n",
       "      <td>6017450430B3225F0A1119C3</td>\n",
       "      <td>EMPRESA 4</td>\n",
       "      <td>CLIENTE 10</td>\n",
       "      <td>TVT - PRO - PRODUCAO OPEN</td>\n",
       "      <td>SCHEDULAGEM</td>\n",
       "      <td>2021-03-11 21:11:28</td>\n",
       "      <td>2021-03-15 00:04:11</td>\n",
       "      <td>3 - Moderado</td>\n",
       "      <td>Encerrado</td>\n",
       "      <td>False</td>\n",
       "      <td>EVENTOS</td>\n",
       "      <td>[]</td>\n",
       "      <td>INDISPONIBILIDADE</td>\n",
       "      <td>CHAMADO NO FORNECEDOR</td>\n",
       "      <td>3 days 02:52:43</td>\n",
       "      <td>74.0</td>\n",
       "    </tr>\n",
       "    <tr>\n",
       "      <th>97834</th>\n",
       "      <td>6017450420D1500E8991D116</td>\n",
       "      <td>EMPRESA 4</td>\n",
       "      <td>CLIENTE 10</td>\n",
       "      <td>TVT - PRO - PRODUCAO OPEN</td>\n",
       "      <td>SCHEDULAGEM</td>\n",
       "      <td>2021-03-11 22:08:21</td>\n",
       "      <td>2021-03-14 23:03:14</td>\n",
       "      <td>2 - Alto</td>\n",
       "      <td>Encerrado</td>\n",
       "      <td>False</td>\n",
       "      <td>EVENTOS</td>\n",
       "      <td>[]</td>\n",
       "      <td>Outros</td>\n",
       "      <td>SEM ACAO</td>\n",
       "      <td>3 days 00:54:53</td>\n",
       "      <td>72.0</td>\n",
       "    </tr>\n",
       "    <tr>\n",
       "      <th>97835</th>\n",
       "      <td>601745040A2B31139BC1A22E</td>\n",
       "      <td>EMPRESA 4</td>\n",
       "      <td>CLIENTE 10</td>\n",
       "      <td>TVT - PRO - PRODUCAO OPEN</td>\n",
       "      <td>SCHEDULAGEM</td>\n",
       "      <td>2021-03-11 22:27:21</td>\n",
       "      <td>2021-03-15 00:02:08</td>\n",
       "      <td>2 - Alto</td>\n",
       "      <td>Encerrado</td>\n",
       "      <td>False</td>\n",
       "      <td>EVENTOS</td>\n",
       "      <td>[]</td>\n",
       "      <td>Outros</td>\n",
       "      <td>RESET DE SERVIDOR</td>\n",
       "      <td>3 days 01:34:47</td>\n",
       "      <td>73.0</td>\n",
       "    </tr>\n",
       "    <tr>\n",
       "      <th>97836</th>\n",
       "      <td>601744E40A2B31139BC19379</td>\n",
       "      <td>EMPRESA 9</td>\n",
       "      <td>CLIENTE 39</td>\n",
       "      <td>TVT - PRO - PRODUCAO OPEN</td>\n",
       "      <td>SCHEDULAGEM</td>\n",
       "      <td>2021-03-01 11:05:21</td>\n",
       "      <td>2021-03-04 12:00:15</td>\n",
       "      <td>4 - Baixo</td>\n",
       "      <td>Encerrado</td>\n",
       "      <td>False</td>\n",
       "      <td>EVENTOS</td>\n",
       "      <td>INC20210096141</td>\n",
       "      <td>PERFORMANCE</td>\n",
       "      <td>SEM ACAO</td>\n",
       "      <td>3 days 00:54:54</td>\n",
       "      <td>72.0</td>\n",
       "    </tr>\n",
       "  </tbody>\n",
       "</table>\n",
       "<p>97837 rows × 16 columns</p>\n",
       "</div>"
      ],
      "text/plain": [
       "                         número     empresa     cliente  \\\n",
       "0                INC20210266479   EMPRESA 5  CLIENTE 25   \n",
       "1                INC20210266459  EMPRESA 36  CLIENTE 38   \n",
       "2                INC20210266455  EMPRESA 36  CLIENTE 25   \n",
       "3                INC20210266451  EMPRESA 12  CLIENTE 31   \n",
       "4                INC20210266450  EMPRESA 36  CLIENTE 25   \n",
       "...                         ...         ...         ...   \n",
       "97832  60174504A95E4B11682ECC63   EMPRESA 4  CLIENTE 10   \n",
       "97833  6017450430B3225F0A1119C3   EMPRESA 4  CLIENTE 10   \n",
       "97834  6017450420D1500E8991D116   EMPRESA 4  CLIENTE 10   \n",
       "97835  601745040A2B31139BC1A22E   EMPRESA 4  CLIENTE 10   \n",
       "97836  601744E40A2B31139BC19379   EMPRESA 9  CLIENTE 39   \n",
       "\n",
       "                              grupo_designado         time  \\\n",
       "0                   TVT - PRO - PRODUCAO OPEN  SCHEDULAGEM   \n",
       "1      TVT - COMMAND CENTER PAYMENTS BUSINESS    MAINFRAME   \n",
       "2                   TVT - PRO - PRODUCAO OPEN  SCHEDULAGEM   \n",
       "3             TVT - NOC - SUPPORTING SERVICES      NETWORK   \n",
       "4                   TVT - PRO - PRODUCAO OPEN  SCHEDULAGEM   \n",
       "...                                       ...          ...   \n",
       "97832               TVT - PRO - PRODUCAO OPEN  SCHEDULAGEM   \n",
       "97833               TVT - PRO - PRODUCAO OPEN  SCHEDULAGEM   \n",
       "97834               TVT - PRO - PRODUCAO OPEN  SCHEDULAGEM   \n",
       "97835               TVT - PRO - PRODUCAO OPEN  SCHEDULAGEM   \n",
       "97836               TVT - PRO - PRODUCAO OPEN  SCHEDULAGEM   \n",
       "\n",
       "                   aberto           encerrado    prioridade     estado  \\\n",
       "0     2021-03-18 22:20:20 2021-03-21 23:00:06      2 - Alto  Encerrado   \n",
       "1     2021-03-18 22:11:22 2021-03-21 23:01:35      2 - Alto  Encerrado   \n",
       "2     2021-03-18 22:09:05 2021-03-21 23:01:33   1 - Crítico  Encerrado   \n",
       "3     2021-03-18 22:05:15 2021-03-21 23:04:22   1 - Crítico  Encerrado   \n",
       "4     2021-03-18 22:04:20 2021-03-21 23:01:27  3 - Moderado  Encerrado   \n",
       "...                   ...                 ...           ...        ...   \n",
       "97832 2021-03-11 21:42:49 2021-03-15 00:01:58  3 - Moderado  Encerrado   \n",
       "97833 2021-03-11 21:11:28 2021-03-15 00:04:11  3 - Moderado  Encerrado   \n",
       "97834 2021-03-11 22:08:21 2021-03-14 23:03:14      2 - Alto  Encerrado   \n",
       "97835 2021-03-11 22:27:21 2021-03-15 00:02:08      2 - Alto  Encerrado   \n",
       "97836 2021-03-01 11:05:21 2021-03-04 12:00:15     4 - Baixo  Encerrado   \n",
       "\n",
       "       foi_violado tipo_registro    id_incidente               categ  \\\n",
       "0            False    INCIDENTES             NaN  OCUPACAO DE ESPACO   \n",
       "1            False    INCIDENTES             NaN  OCUPACAO DE ESPACO   \n",
       "2            False    INCIDENTES             NaN  OCUPACAO DE ESPACO   \n",
       "3            False    INCIDENTES             NaN  OCUPACAO DE ESPACO   \n",
       "4            False    INCIDENTES             NaN  OCUPACAO DE ESPACO   \n",
       "...            ...           ...             ...                 ...   \n",
       "97832        False       EVENTOS              []         PERFORMANCE   \n",
       "97833        False       EVENTOS              []   INDISPONIBILIDADE   \n",
       "97834        False       EVENTOS              []              Outros   \n",
       "97835        False       EVENTOS              []              Outros   \n",
       "97836        False       EVENTOS  INC20210096141         PERFORMANCE   \n",
       "\n",
       "                        acao             dif  dif_hours  \n",
       "0           RESET DE SERVICO 3 days 00:39:46       72.0  \n",
       "1          RESET DE SERVIDOR 3 days 00:50:13       72.0  \n",
       "2      CHAMADO NO FORNECEDOR 3 days 00:52:28       72.0  \n",
       "3           LIMPEZA DE DISCO 3 days 00:59:07       72.0  \n",
       "4         APLICACAO DE PATCH 3 days 00:57:07       72.0  \n",
       "...                      ...             ...        ...  \n",
       "97832     APLICACAO DE PATCH 3 days 02:19:09       74.0  \n",
       "97833  CHAMADO NO FORNECEDOR 3 days 02:52:43       74.0  \n",
       "97834               SEM ACAO 3 days 00:54:53       72.0  \n",
       "97835      RESET DE SERVIDOR 3 days 01:34:47       73.0  \n",
       "97836               SEM ACAO 3 days 00:54:54       72.0  \n",
       "\n",
       "[97837 rows x 16 columns]"
      ]
     },
     "execution_count": 125,
     "metadata": {},
     "output_type": "execute_result"
    }
   ],
   "source": [
    "df.reset_index(drop=True)"
   ]
  },
  {
   "cell_type": "code",
   "execution_count": 138,
   "metadata": {
    "ExecuteTime": {
     "end_time": "2021-03-28T17:24:14.805317Z",
     "start_time": "2021-03-28T17:24:13.969729Z"
    },
    "hidden": true
   },
   "outputs": [
    {
     "name": "stderr",
     "output_type": "stream",
     "text": [
      "/Users/usuario/opt/anaconda3/lib/python3.8/site-packages/seaborn/distributions.py:2551: FutureWarning: `distplot` is a deprecated function and will be removed in a future version. Please adapt your code to use either `displot` (a figure-level function with similar flexibility) or `kdeplot` (an axes-level function for kernel density plots).\n",
      "  warnings.warn(msg, FutureWarning)\n"
     ]
    },
    {
     "data": {
      "text/plain": [
       "<AxesSubplot:xlabel='dif_hours', ylabel='Density'>"
      ]
     },
     "execution_count": 138,
     "metadata": {},
     "output_type": "execute_result"
    },
    {
     "data": {
      "image/png": "[encoded data removed]",
      "text/plain": [
       "<Figure size 1800x576 with 1 Axes>"
      ]
     },
     "metadata": {},
     "output_type": "display_data"
    }
   ],
   "source": [
    "sns.distplot(critico, hist = False, kde = True,\n",
    "            kde_kws = {'shade': True, 'linewidth': 2}, \n",
    "            label = \"Non-Normal\", color =\"green\")"
   ]
  },
  {
   "cell_type": "code",
   "execution_count": 137,
   "metadata": {
    "ExecuteTime": {
     "end_time": "2021-03-28T17:24:10.350679Z",
     "start_time": "2021-03-28T17:24:09.245089Z"
    },
    "hidden": true
   },
   "outputs": [
    {
     "name": "stderr",
     "output_type": "stream",
     "text": [
      "/Users/usuario/opt/anaconda3/lib/python3.8/site-packages/seaborn/distributions.py:2551: FutureWarning: `distplot` is a deprecated function and will be removed in a future version. Please adapt your code to use either `displot` (a figure-level function with similar flexibility) or `kdeplot` (an axes-level function for kernel density plots).\n",
      "  warnings.warn(msg, FutureWarning)\n"
     ]
    },
    {
     "data": {
      "text/plain": [
       "<AxesSubplot:xlabel='dif_hours', ylabel='Density'>"
      ]
     },
     "execution_count": 137,
     "metadata": {},
     "output_type": "execute_result"
    },
    {
     "data": {
      "image/png": "[encoded data removed]",
      "text/plain": [
       "<Figure size 1800x576 with 1 Axes>"
      ]
     },
     "metadata": {},
     "output_type": "display_data"
    }
   ],
   "source": [
    "sns.distplot(alto, hist = False, kde = True,\n",
    "            kde_kws = {'shade': True, 'linewidth': 2}, \n",
    "            label = \"Non-Normal\", color =\"green\")"
   ]
  },
  {
   "cell_type": "code",
   "execution_count": 136,
   "metadata": {
    "ExecuteTime": {
     "end_time": "2021-03-28T17:24:05.106875Z",
     "start_time": "2021-03-28T17:24:04.214883Z"
    },
    "hidden": true
   },
   "outputs": [
    {
     "name": "stderr",
     "output_type": "stream",
     "text": [
      "/Users/usuario/opt/anaconda3/lib/python3.8/site-packages/seaborn/distributions.py:2551: FutureWarning: `distplot` is a deprecated function and will be removed in a future version. Please adapt your code to use either `displot` (a figure-level function with similar flexibility) or `kdeplot` (an axes-level function for kernel density plots).\n",
      "  warnings.warn(msg, FutureWarning)\n"
     ]
    },
    {
     "data": {
      "text/plain": [
       "<AxesSubplot:xlabel='dif_hours', ylabel='Density'>"
      ]
     },
     "execution_count": 136,
     "metadata": {},
     "output_type": "execute_result"
    },
    {
     "data": {
      "image/png": "[encoded data removed]",
      "text/plain": [
       "<Figure size 1800x576 with 1 Axes>"
      ]
     },
     "metadata": {},
     "output_type": "display_data"
    }
   ],
   "source": [
    "sns.distplot(moderado, hist = False, kde = True,\n",
    "            kde_kws = {'shade': True, 'linewidth': 2}, \n",
    "            label = \"Non-Normal\", color =\"green\")"
   ]
  },
  {
   "cell_type": "code",
   "execution_count": 147,
   "metadata": {
    "ExecuteTime": {
     "end_time": "2021-03-28T17:59:17.798898Z",
     "start_time": "2021-03-28T17:59:16.393526Z"
    },
    "hidden": true
   },
   "outputs": [
    {
     "name": "stderr",
     "output_type": "stream",
     "text": [
      "/Users/usuario/opt/anaconda3/lib/python3.8/site-packages/seaborn/distributions.py:2551: FutureWarning: `distplot` is a deprecated function and will be removed in a future version. Please adapt your code to use either `displot` (a figure-level function with similar flexibility) or `kdeplot` (an axes-level function for kernel density plots).\n",
      "  warnings.warn(msg, FutureWarning)\n"
     ]
    },
    {
     "data": {
      "text/plain": [
       "<AxesSubplot:xlabel='dif_hours', ylabel='Density'>"
      ]
     },
     "execution_count": 147,
     "metadata": {},
     "output_type": "execute_result"
    },
    {
     "data": {
      "image/png": "[encoded data removed]",
      "text/plain": [
       "<Figure size 1800x576 with 1 Axes>"
      ]
     },
     "metadata": {},
     "output_type": "display_data"
    }
   ],
   "source": [
    "sns.distplot(baixo, hist = False, kde = True,\n",
    "            kde_kws = {'shade': True, 'linewidth': 2}, \n",
    "            label = \"Non-Normal\", color =\"green\")"
   ]
  },
  {
   "cell_type": "code",
   "execution_count": 148,
   "metadata": {
    "ExecuteTime": {
     "end_time": "2021-03-28T17:59:27.040847Z",
     "start_time": "2021-03-28T17:59:27.035494Z"
    },
    "hidden": true
   },
   "outputs": [],
   "source": [
    "\n",
    "# Shapiro-Wilk Test\n",
    "from numpy.random import seed\n",
    "from numpy.random import randn\n",
    "from scipy.stats import shapiro"
   ]
  },
  {
   "cell_type": "code",
   "execution_count": 155,
   "metadata": {
    "ExecuteTime": {
     "end_time": "2021-03-28T18:01:22.013996Z",
     "start_time": "2021-03-28T18:01:22.002493Z"
    },
    "hidden": true
   },
   "outputs": [
    {
     "name": "stdout",
     "output_type": "stream",
     "text": [
      "Statistics=0.725, p=0.000\n",
      "Sample does not look Gaussian (reject H0)\n"
     ]
    }
   ],
   "source": [
    "# generate univariate observations\n",
    "# normality test\n",
    "stat, p = shapiro(critico)\n",
    "print('Statistics=%.3f, p=%.3f' % (stat, p))\n",
    "# interpret\n",
    "alpha = 0.05\n",
    "if p > alpha:\n",
    "    print('Sample looks Gaussian (fail to reject H0)')\n",
    "else:\n",
    "    print('Sample does not look Gaussian (reject H0)')"
   ]
  },
  {
   "cell_type": "code",
   "execution_count": 156,
   "metadata": {
    "ExecuteTime": {
     "end_time": "2021-03-28T18:01:23.148524Z",
     "start_time": "2021-03-28T18:01:23.136967Z"
    },
    "hidden": true
   },
   "outputs": [
    {
     "name": "stdout",
     "output_type": "stream",
     "text": [
      "Statistics=0.654, p=0.000\n",
      "Sample does not look Gaussian (reject H0)\n"
     ]
    }
   ],
   "source": [
    "# generate univariate observations\n",
    "# normality test\n",
    "stat, p = shapiro(baixo)\n",
    "print('Statistics=%.3f, p=%.3f' % (stat, p))\n",
    "# interpret\n",
    "alpha = 0.05\n",
    "if p > alpha:\n",
    "    print('Sample looks Gaussian (fail to reject H0)')\n",
    "else:\n",
    "    print('Sample does not look Gaussian (reject H0)')"
   ]
  },
  {
   "cell_type": "code",
   "execution_count": null,
   "metadata": {
    "hidden": true
   },
   "outputs": [],
   "source": [
    "# como podemos comprovar as distribuicoes nao sao normais"
   ]
  },
  {
   "cell_type": "code",
   "execution_count": 157,
   "metadata": {
    "ExecuteTime": {
     "end_time": "2021-03-28T18:06:31.530847Z",
     "start_time": "2021-03-28T18:06:31.512369Z"
    },
    "hidden": true
   },
   "outputs": [],
   "source": [
    "# passing into a normal distribution"
   ]
  },
  {
   "cell_type": "code",
   "execution_count": null,
   "metadata": {
    "hidden": true
   },
   "outputs": [],
   "source": [
    "import numpy as np\n",
    "from scipy import stats\n",
    "  \n",
    "# plotting modules\n",
    "import seaborn as sns\n",
    "import matplotlib.pyplot as plt"
   ]
  },
  {
   "cell_type": "code",
   "execution_count": 169,
   "metadata": {
    "ExecuteTime": {
     "end_time": "2021-03-28T18:13:35.565406Z",
     "start_time": "2021-03-28T18:13:33.203170Z"
    },
    "hidden": true
   },
   "outputs": [
    {
     "name": "stderr",
     "output_type": "stream",
     "text": [
      "/Users/usuario/opt/anaconda3/lib/python3.8/site-packages/seaborn/distributions.py:2551: FutureWarning: `distplot` is a deprecated function and will be removed in a future version. Please adapt your code to use either `displot` (a figure-level function with similar flexibility) or `kdeplot` (an axes-level function for kernel density plots).\n",
      "  warnings.warn(msg, FutureWarning)\n",
      "/Users/usuario/opt/anaconda3/lib/python3.8/site-packages/seaborn/distributions.py:2551: FutureWarning: `distplot` is a deprecated function and will be removed in a future version. Please adapt your code to use either `displot` (a figure-level function with similar flexibility) or `kdeplot` (an axes-level function for kernel density plots).\n",
      "  warnings.warn(msg, FutureWarning)\n",
      "/Users/usuario/opt/anaconda3/lib/python3.8/site-packages/seaborn/distributions.py:305: UserWarning: Dataset has 0 variance; skipping density estimate.\n",
      "  warnings.warn(msg, UserWarning)\n"
     ]
    },
    {
     "data": {
      "text/plain": [
       "<AxesSubplot:ylabel='Density'>"
      ]
     },
     "execution_count": 169,
     "metadata": {},
     "output_type": "execute_result"
    },
    {
     "data": {
      "image/png": "[encoded data removed]",
      "text/plain": [
       "<Figure size 1800x576 with 2 Axes>"
      ]
     },
     "metadata": {},
     "output_type": "display_data"
    }
   ],
   "source": [
    "#generate non-normal data (exponential)\n",
    "original_data = list(df.dif_hours)\n",
    "  \n",
    "# transform training data & save lambda value\n",
    "fitted_data, fitted_lambda = stats.boxcox(original_data)\n",
    "  \n",
    "# creating axes to draw plots\n",
    "fig, ax = plt.subplots(1, 2)\n",
    "  \n",
    "# plotting the original data(non-normal) and \n",
    "# fitted data (normal)\n",
    "sns.distplot(original_data, hist = False, kde = True,\n",
    "            kde_kws = {'shade': True, 'linewidth': 2}, \n",
    "            label = \"Non-Normal\", color =\"green\", ax = ax[0])\n",
    "  \n",
    "sns.distplot(fitted_data, hist = False, kde = True,\n",
    "            kde_kws = {'shade': True, 'linewidth': 2}, \n",
    "            label = \"Normal\", color =\"green\", ax = ax[1])"
   ]
  },
  {
   "cell_type": "markdown",
   "metadata": {
    "heading_collapsed": true
   },
   "source": [
    "# Média de tempo por criticidade"
   ]
  },
  {
   "cell_type": "code",
   "execution_count": 176,
   "metadata": {
    "ExecuteTime": {
     "end_time": "2021-03-28T19:43:21.823834Z",
     "start_time": "2021-03-28T19:43:21.401250Z"
    },
    "hidden": true
   },
   "outputs": [
    {
     "data": {
      "text/plain": [
       "((24577,), (24577,))"
      ]
     },
     "execution_count": 176,
     "metadata": {},
     "output_type": "execute_result"
    }
   ],
   "source": [
    "#Definindo a partir de quais condições estamos extraindo as amostras:\n",
    "amostra_1 = df[df['prioridade']=='1 - Crítico']['dif_hours']\n",
    "amostra_2 = df[df['prioridade']=='4 - Baixo']['dif_hours']\n",
    "\n",
    "#Identificando quantas observações tem em cada amostra:\n",
    "amostra_1.shape, amostra_2.shape\n",
    "amostra_2 = amostra_2.sample(24577,random_state=42).reset_index(drop=True)\n",
    "amostra_1.shape, amostra_2.shape"
   ]
  },
  {
   "cell_type": "code",
   "execution_count": null,
   "metadata": {
    "hidden": true
   },
   "outputs": [],
   "source": [
    "from scipy.stats import mannwhitneyu\n",
    "mannwhitneyu(amostra_1, amostra_2)"
   ]
  },
  {
   "cell_type": "code",
   "execution_count": null,
   "metadata": {
    "hidden": true
   },
   "outputs": [],
   "source": [
    "# H0 era: as médias sao iguais\n",
    "# rejeitamos h0 portanto as médias nao sao iguais\n"
   ]
  },
  {
   "cell_type": "code",
   "execution_count": 183,
   "metadata": {
    "ExecuteTime": {
     "end_time": "2021-03-28T19:55:45.307138Z",
     "start_time": "2021-03-28T19:55:45.237105Z"
    },
    "hidden": true,
    "scrolled": true
   },
   "outputs": [
    {
     "data": {
      "text/plain": [
       "MannwhitneyuResult(statistic=253573261.0, pvalue=2.4640065766618516e-222)"
      ]
     },
     "execution_count": 183,
     "metadata": {},
     "output_type": "execute_result"
    }
   ],
   "source": [
    "from scipy.stats import mannwhitneyu\n",
    "mannwhitneyu(amostra_1, amostra_2)"
   ]
  },
  {
   "cell_type": "code",
   "execution_count": 188,
   "metadata": {
    "ExecuteTime": {
     "end_time": "2021-03-28T19:57:03.380737Z",
     "start_time": "2021-03-28T19:57:03.356005Z"
    },
    "hidden": true
   },
   "outputs": [
    {
     "data": {
      "text/plain": [
       "MannwhitneyuResult(statistic=350455668.0, pvalue=2.4640065766618516e-222)"
      ]
     },
     "execution_count": 188,
     "metadata": {},
     "output_type": "execute_result"
    }
   ],
   "source": [
    "from scipy.stats import mannwhitneyu\n",
    "mannwhitneyu(amostra_1, amostra_2,alternative='greater')"
   ]
  },
  {
   "cell_type": "code",
   "execution_count": 186,
   "metadata": {
    "ExecuteTime": {
     "end_time": "2021-03-28T19:56:39.981908Z",
     "start_time": "2021-03-28T19:56:39.973452Z"
    },
    "hidden": true
   },
   "outputs": [],
   "source": [
    "# the sample 1 is greater than the sample 2"
   ]
  },
  {
   "cell_type": "markdown",
   "metadata": {},
   "source": [
    "# Média de tempo por time "
   ]
  },
  {
   "cell_type": "code",
   "execution_count": 189,
   "metadata": {
    "ExecuteTime": {
     "end_time": "2021-03-28T20:02:04.221682Z",
     "start_time": "2021-03-28T20:02:02.152023Z"
    }
   },
   "outputs": [
    {
     "data": {
      "image/png": "[encoded data removed]",
      "text/plain": [
       "<Figure size 1800x576 with 1 Axes>"
      ]
     },
     "metadata": {},
     "output_type": "display_data"
    }
   ],
   "source": [
    "#Definindo o boxplot por times:\n",
    "sns.boxplot(y='dif_hours',\n",
    "            x='time',\n",
    "           data=df,\n",
    "           width=0.5);"
   ]
  },
  {
   "cell_type": "code",
   "execution_count": 190,
   "metadata": {
    "ExecuteTime": {
     "end_time": "2021-03-28T20:02:15.205154Z",
     "start_time": "2021-03-28T20:02:10.667314Z"
    }
   },
   "outputs": [
    {
     "data": {
      "text/plain": [
       "<AxesSubplot:xlabel='time', ylabel='dif_hours'>"
      ]
     },
     "execution_count": 190,
     "metadata": {},
     "output_type": "execute_result"
    },
    {
     "data": {
      "image/png": "[encoded data removed]",
      "text/plain": [
       "<Figure size 1800x576 with 1 Axes>"
      ]
     },
     "metadata": {},
     "output_type": "display_data"
    }
   ],
   "source": [
    "sns.boxplot(y='dif_hours', x='time', \n",
    "                 data=df, \n",
    "                 palette=\"colorblind\",\n",
    "                 hue='prioridade')"
   ]
  },
  {
   "cell_type": "code",
   "execution_count": null,
   "metadata": {},
   "outputs": [],
   "source": []
  }
 ],
 "metadata": {
  "kernelspec": {
   "display_name": "Python 3",
   "language": "python",
   "name": "python3"
  },
  "language_info": {
   "codemirror_mode": {
    "name": "ipython",
    "version": 3
   },
   "file_extension": ".py",
   "mimetype": "text/x-python",
   "name": "python",
   "nbconvert_exporter": "python",
   "pygments_lexer": "ipython3",
   "version": "3.8.5"
  },
  "toc": {
   "base_numbering": 1,
   "nav_menu": {},
   "number_sections": true,
   "sideBar": true,
   "skip_h1_title": false,
   "title_cell": "Table of Contents",
   "title_sidebar": "Contents",
   "toc_cell": false,
   "toc_position": {
    "height": "calc(100% - 180px)",
    "left": "10px",
    "top": "150px",
    "width": "384px"
   },
   "toc_section_display": true,
   "toc_window_display": true
  },
  "varInspector": {
   "cols": {
    "lenName": 16,
    "lenType": 16,
    "lenVar": 40
   },
   "kernels_config": {
    "python": {
     "delete_cmd_postfix": "",
     "delete_cmd_prefix": "del ",
     "library": "var_list.py",
     "varRefreshCmd": "print(var_dic_list())"
    },
    "r": {
     "delete_cmd_postfix": ") ",
     "delete_cmd_prefix": "rm(",
     "library": "var_list.r",
     "varRefreshCmd": "cat(var_dic_list()) "
    }
   },
   "types_to_exclude": [
    "module",
    "function",
    "builtin_function_or_method",
    "instance",
    "_Feature"
   ],
   "window_display": false
  }
 },
 "nbformat": 4,
 "nbformat_minor": 4
}
